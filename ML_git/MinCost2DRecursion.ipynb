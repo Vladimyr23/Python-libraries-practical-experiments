{
 "cells": [
  {
   "cell_type": "code",
   "execution_count": 18,
   "metadata": {},
   "outputs": [
    {
     "name": "stdout",
     "output_type": "stream",
     "text": [
      "11\n"
     ]
    }
   ],
   "source": [
    "def minCost(cost, m, n): \n",
    "  \n",
    "    # Instead of following line, we can use int tc[m + 1][n + 1] or \n",
    "    # dynamically allocate memoery to save space. The following \n",
    "    # line is used to keep te program simple and make it working \n",
    "    # on all compilers. \n",
    "    tc = [[0 for x in range(m+1)] for x in range(n+1)] \n",
    "  \n",
    "    tc[0][0] = cost[0][0] \n",
    "  \n",
    "    # Initialize first column of total cost(tc) array \n",
    "    for i in range(1, m + 1): \n",
    "        tc[i][0] = tc[i-1][0] + cost[i][0] \n",
    "  \n",
    "    # Initialize first row of tc array \n",
    "    for j in range(1, n + 1): \n",
    "        tc[0][j] = tc[0][j-1] + cost[0][j] \n",
    "  \n",
    "    # Construct rest of the tc array \n",
    "    for i in range(1, m + 1): \n",
    "        for j in range(1, n + 1): \n",
    "            tc[i][j] = min(tc[i-1][j-1], tc[i-1][j], \n",
    "                            tc[i][j-1]) + cost[i][j]\n",
    "    return tc[m][n] \n",
    "  \n",
    "# Driver program to test above functions \n",
    "cost = [[1, 2, 3, 1], \n",
    "        [4, 7, 2, 2], \n",
    "        [1, 5, 3, 5],\n",
    "        [4, 2, 3, 3]] \n",
    "print(minCost(cost, (len(cost[0]) -1), (len(cost) -1))) "
   ]
  },
  {
   "cell_type": "code",
   "execution_count": null,
   "metadata": {},
   "outputs": [],
   "source": [
    "def minCost(cost,m,n):\n",
    "    tc = [[0 for x in range(m+1)] for x in range(n+1)] \n",
    "  \n",
    "    # tc[0][0] = cost[0][0]\n",
    "    for i in range(0, m+1):\n",
    "        for j in range(0, n+1):\n",
    "            \n",
    "\n",
    "# Driver program to test above functions \n",
    "cost = [[1, 2, 3, 1], \n",
    "        [4, 7, 2, 2], \n",
    "        [1, 5, 3, 5],\n",
    "        [4, 2, 3, 3]] \n",
    "print(minCost(cost, (len(cost[0]) -1), (len(cost) -1))) "
   ]
  },
  {
   "cell_type": "code",
   "execution_count": 28,
   "metadata": {},
   "outputs": [
    {
     "name": "stdout",
     "output_type": "stream",
     "text": [
      "The minimum cost is 4\n"
     ]
    }
   ],
   "source": [
    "# Naive recursive function to find the minimum cost to reach\n",
    "# cell (m, n) from cell (0, 0)\n",
    "def findMinCost(cost, m, n):\n",
    "\n",
    "    # base case\n",
    "    if n == 0 or m == 0:\n",
    "        return float('inf')\n",
    "\n",
    "    # if we're at first cell (0, 0)\n",
    "    if m == 1 and n == 1:\n",
    "        return cost[0][0]\n",
    "\n",
    "    # include cost of the current cell in path and recur to find minimum of\n",
    "    # the path from adjacent left cell and adjacent top cell.\n",
    "    return min(findMinCost(cost, m - 1, n), findMinCost(cost, m, n - 1)) + cost[m - 1][n - 1]\n",
    "\n",
    "\n",
    "if __name__ == '__main__':\n",
    "\n",
    "    cost = [\n",
    "        #[4, 7, 8, 6, 4],\n",
    "        #[6, 7, 3, 9, 2],\n",
    "        #[3, 8, 1, 2, 4],\n",
    "        #[7, 1, 7, 3, 7],\n",
    "        #[2, 9, 8, 9, 3]\n",
    "    ]\n",
    "\n",
    "    print(\"The minimum cost is\", findMinCost(cost, len(cost), len(cost[0])))\n"
   ]
  },
  {
   "cell_type": "code",
   "execution_count": 1,
   "metadata": {},
   "outputs": [
    {
     "name": "stdout",
     "output_type": "stream",
     "text": [
      "The minimum cost is 36\n"
     ]
    }
   ],
   "source": [
    "# Iterative function to find the minimum cost to traverse from the\n",
    "# first cell to last cell of a matrix\n",
    "def findMinCost(cost):\n",
    "\n",
    "    # M x N matrix\n",
    "    (M, N) = (len(cost), len(cost[0]))\n",
    "\n",
    "    # T[i][j] maintains minimum cost to reach cell (i, j) from cell (0, 0)\n",
    "    T = [[0 for x in range(N)] for y in range(M)]\n",
    "\n",
    "    # fill matrix in bottom-up manner\n",
    "    for i in range(M):\n",
    "        for j in range(N):\n",
    "            T[i][j] = cost[i][j]\n",
    "\n",
    "            # fill first row (there is only one way to reach any cell in the\n",
    "            # first row, that is from its adjacent left cell)\n",
    "            if i == 0 and j > 0:\n",
    "                T[0][j] += T[0][j - 1]\n",
    "\n",
    "            # fill first column (there is only one way to reach any cell in\n",
    "            # the first column, that is from its adjacent top cell)\n",
    "            elif j == 0 and i > 0:\n",
    "                T[i][0] += T[i - 1][0]\n",
    "\n",
    "            # fill rest of the matrix (there are two way to reach any\n",
    "            # cell in the rest of the matrix, that is from its adjacent\n",
    "            # left cell or adjacent top cell)\n",
    "            elif i > 0 and j > 0:\n",
    "                T[i][j] += min(T[i - 1][j], T[i][j - 1])\n",
    "\n",
    "    # last cell of T stores min cost to reach destination cell\n",
    "    # (M-1, N-1) from source cell (0, 0)\n",
    "    return T[M - 1][N - 1]\n",
    "\n",
    "\n",
    "if __name__ == '__main__':\n",
    "\n",
    "    cost = [\n",
    "        [4, 7, 8, 6, 4],\n",
    "        [6, 7, 3, 9, 2],\n",
    "        [3, 8, 1, 2, 4],\n",
    "        [7, 1, 7, 3, 7],\n",
    "        [2, 9, 8, 9, 3]\n",
    "    ]\n",
    "\n",
    "    print(\"The minimum cost is\", findMinCost(cost))\n"
   ]
  },
  {
   "cell_type": "code",
   "execution_count": null,
   "metadata": {},
   "outputs": [],
   "source": []
  }
 ],
 "metadata": {
  "kernelspec": {
   "display_name": "Python 3",
   "language": "python",
   "name": "python3"
  },
  "language_info": {
   "codemirror_mode": {
    "name": "ipython",
    "version": 3
   },
   "file_extension": ".py",
   "mimetype": "text/x-python",
   "name": "python",
   "nbconvert_exporter": "python",
   "pygments_lexer": "ipython3",
   "version": "3.7.6"
  }
 },
 "nbformat": 4,
 "nbformat_minor": 4
}
