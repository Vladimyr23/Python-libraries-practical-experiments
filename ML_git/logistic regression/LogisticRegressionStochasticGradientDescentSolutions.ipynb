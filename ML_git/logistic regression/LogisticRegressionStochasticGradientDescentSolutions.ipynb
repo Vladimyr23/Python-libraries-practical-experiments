{
 "cells": [
  {
   "cell_type": "markdown",
   "metadata": {},
   "source": [
    "## Logistic regression and stochastic gradient descent algorithms\n",
    "We will learn how to programme the logistic regression (LR) model. To find the best fitting parameters in the LR, gradient descent (GD) and stochastic gradient descent (SGD) can be used."
   ]
  },
  {
   "cell_type": "code",
   "execution_count": 1,
   "metadata": {},
   "outputs": [],
   "source": [
    "# These modules are required for this exercise.\n",
    "import pandas as pd\n",
    "import numpy as np\n",
    "import matplotlib.pyplot as plt\n",
    "import tensorflow as tf"
   ]
  },
  {
   "cell_type": "markdown",
   "metadata": {},
   "source": [
    "### 1. We start from a toy data. The following is to generate a data for demonstrating the logistic regression model for binary classification. We will use the gradient descent algorithm and the stochastic gradient descent algorithm to optimize the model parameters."
   ]
  },
  {
   "cell_type": "code",
   "execution_count": 2,
   "metadata": {},
   "outputs": [
    {
     "data": {
      "text/plain": [
       "<matplotlib.legend.Legend at 0x2742d8ae9d0>"
      ]
     },
     "execution_count": 2,
     "metadata": {},
     "output_type": "execute_result"
    },
    {
     "data": {
      "image/png": "[encoded data removed]",
      "text/plain": [
       "<Figure size 432x288 with 1 Axes>"
      ]
     },
     "metadata": {
      "needs_background": "light"
     },
     "output_type": "display_data"
    }
   ],
   "source": [
    "# class 1\n",
    "s1 = pd.DataFrame(np.random.randn(100,2))\n",
    "y1 = np.int32(np.ones(100))\n",
    "\n",
    "# class 2\n",
    "s2 = pd.DataFrame(np.random.randn(100,2)+ 1.0) \n",
    "y2 = np.int32(0.0*np.ones(100))\n",
    "subdata=pd.concat([s1, s2],axis=0, ignore_index=True)\n",
    "subdata.columns = ['x1','x2']\n",
    "y = pd.Series(np.concatenate([y1,y2]))\n",
    "subdata['class'] = pd.Series(y)\n",
    "#pd.set_option('display.max_rows', None)\n",
    "\n",
    "groups = subdata.groupby('class')\n",
    "# scatter plots\n",
    "fig, ax = plt.subplots()\n",
    "ax.margins(0.1)\n",
    "for name, group in groups:    \n",
    "    ax.plot(group.x1,group.x2,marker='o',linestyle='',label=name)\n",
    "ax.legend()\n"
   ]
  },
  {
   "cell_type": "markdown",
   "metadata": {},
   "source": [
    "### 1.1) Our task is to train a LR classifier using the following data, where X is the feature data and Y the corresponding class labels. Note that since we are going to use gradient descent algorithm, I'd like to use TensorFlow to represent all the variables."
   ]
  },
  {
   "cell_type": "code",
   "execution_count": 3,
   "metadata": {},
   "outputs": [],
   "source": [
    "X = tf.constant(subdata.values[:,0:2], dtype=tf.float32)\n",
    "Y = tf.constant(subdata.values[:,-1], shape=(len(subdata.index),1), dtype=tf.float32)\n",
    "#print(X)\n",
    "#print(Y)"
   ]
  },
  {
   "cell_type": "markdown",
   "metadata": {},
   "source": [
    "### 1.2) Firstly, we want to compute the log odds of class 1 (or the logit function). Write a function to accomplish this small task."
   ]
  },
  {
   "cell_type": "code",
   "execution_count": 4,
   "metadata": {},
   "outputs": [],
   "source": [
    "def logits(X,w):    \n",
    "    return tf.linalg.matmul(X,w) # X has shape (N,m); w has shape (m,1)\n",
    "\n",
    "# test it\n",
    "w = tf.Variable(initial_value=[[0.5],[1]],shape=(2,1), dtype=tf.float32)\n",
    "#print(logits(X,w))"
   ]
  },
  {
   "cell_type": "markdown",
   "metadata": {},
   "source": [
    "### 1.3) Secondly, we want to compute the negative sigmoid cross entropy. Again write a function to accomplish it."
   ]
  },
  {
   "cell_type": "code",
   "execution_count": 5,
   "metadata": {},
   "outputs": [
    {
     "name": "stdout",
     "output_type": "stream",
     "text": [
      "tf.Tensor(269.3537, shape=(), dtype=float32)\n"
     ]
    }
   ],
   "source": [
    "def loss(X,Y,w):\n",
    "    return tf.reduce_sum(tf.nn.sigmoid_cross_entropy_with_logits(labels=Y,logits=logits(X,w)))\n",
    "\n",
    "# test it\n",
    "w = tf.Variable(initial_value=[[0.5],[1]],shape=(2,1), dtype=tf.float32)\n",
    "print(loss(X,Y,w))"
   ]
  },
  {
   "cell_type": "markdown",
   "metadata": {},
   "source": [
    "### 1.4) Thirdly, since the objective function, i.e., the loss function, has been defined, the gradient is now needed for using gradient descent algorithm.\n",
    "### So we can use TensorFlow's GradientTape to automatically compute the gradients\n",
    "### In the following, write a function to returen the gradient given the variable w."
   ]
  },
  {
   "cell_type": "code",
   "execution_count": 6,
   "metadata": {},
   "outputs": [
    {
     "name": "stdout",
     "output_type": "stream",
     "text": [
      "tf.Tensor(\n",
      "[[138.6882 ]\n",
      " [107.88237]], shape=(2, 1), dtype=float32)\n"
     ]
    }
   ],
   "source": [
    "# compute the gradient \n",
    "def w_grad(w,X,Y):\n",
    "    with tf.GradientTape() as tape:\n",
    "        tape.watch(w)\n",
    "        loss_fun = loss(X,Y,w)\n",
    "    return tape.gradient(loss_fun,w)\n",
    "\n",
    "# test it\n",
    "w = tf.Variable(initial_value=[[1.0],[1.0]],shape=(2,1), dtype=tf.float32)\n",
    "grad = w_grad(w,X,Y)\n",
    "print(grad)"
   ]
  },
  {
   "cell_type": "markdown",
   "metadata": {},
   "source": [
    "### 1.5) Finally, the parameter w can be learning using gradient descent, given an initial value for w, the gradient, and the data."
   ]
  },
  {
   "cell_type": "code",
   "execution_count": 7,
   "metadata": {},
   "outputs": [
    {
     "data": {
      "text/plain": [
       "[<matplotlib.lines.Line2D at 0x2742e3a4820>]"
      ]
     },
     "execution_count": 7,
     "metadata": {},
     "output_type": "execute_result"
    },
    {
     "data": {
      "image/png": "[encoded data removed]",
      "text/plain": [
       "<Figure size 432x288 with 1 Axes>"
      ]
     },
     "metadata": {
      "needs_background": "light"
     },
     "output_type": "display_data"
    }
   ],
   "source": [
    "# use gradient descent to update w\n",
    "Iters = 200\n",
    "eta = 0.05\n",
    "Loss = []\n",
    "w = tf.Variable(initial_value=[[2.0],[2.0]],shape=(2,1), dtype=tf.float32)\n",
    "Weights = tf.identity(w) # to store the w at each iteration\n",
    "for i in range(Iters):\n",
    "    Weights = tf.concat([Weights,w],1)\n",
    "    w = w - eta*w_grad(w,X,Y)\n",
    "    Loss.append(loss(X,Y,w).numpy())\n",
    "\n",
    "#print(Weights)\n",
    "plt.plot(Loss)"
   ]
  },
  {
   "cell_type": "markdown",
   "metadata": {},
   "source": [
    "### 1.6) We have done gradient descent algorithm. Now we want to use SGD to learn w instead.\n",
    "### Firstly, we need to write a function to automatically create mini-batches to feed data to SGD"
   ]
  },
  {
   "cell_type": "code",
   "execution_count": 8,
   "metadata": {},
   "outputs": [
    {
     "name": "stdout",
     "output_type": "stream",
     "text": [
      "(array([[1.6747663 , 0.17933692],\n",
      "       [0.50487334, 1.8296919 ]], dtype=float32), array([[1.],\n",
      "       [0.]], dtype=float32))\n"
     ]
    }
   ],
   "source": [
    "# to create mini-batches\n",
    "def create_mini_batches(X, y, batch_size): \n",
    "    mini_batches = [] \n",
    "    #data = np.hstack((X, y)) \n",
    "    data = np.transpose(np.vstack((X_data,y_data)))\n",
    "    np.random.shuffle(data) \n",
    "    n_minibatches = data.shape[0] // batch_size \n",
    "    i = 0\n",
    "  \n",
    "    for i in range(n_minibatches + 1): \n",
    "        mini_batch = data[i * batch_size:(i + 1)*batch_size, :] \n",
    "        X_mini = mini_batch[:, :-1] \n",
    "        Y_mini = mini_batch[:, -1].reshape((-1, 1)) \n",
    "        mini_batches.append((X_mini, Y_mini)) \n",
    "    if data.shape[0] % batch_size != 0: \n",
    "        mini_batch = data[i * batch_size:data.shape[0]] \n",
    "        X_mini = mini_batch[:, :-1] \n",
    "        Y_mini = mini_batch[:, -1].reshape((-1, 1)) \n",
    "        mini_batches.append((X_mini, Y_mini)) \n",
    "    return mini_batches \n",
    "\n",
    "# test it\n",
    "X_data = np.transpose(X.numpy())\n",
    "y_data = np.transpose(Y.numpy())\n",
    "mini_batches = create_mini_batches(X_data, y_data, 2)\n",
    "print(mini_batches[0])"
   ]
  },
  {
   "cell_type": "markdown",
   "metadata": {},
   "source": [
    "### 1.7) Secondly, we now can programme the SGD to learn w by using mini-batch data."
   ]
  },
  {
   "cell_type": "code",
   "execution_count": 9,
   "metadata": {},
   "outputs": [
    {
     "data": {
      "image/png": "[encoded data removed]",
      "text/plain": [
       "<Figure size 432x288 with 1 Axes>"
      ]
     },
     "metadata": {
      "needs_background": "light"
     },
     "output_type": "display_data"
    },
    {
     "name": "stdout",
     "output_type": "stream",
     "text": [
      "tf.Tensor(\n",
      "[[-0.8404252 ]\n",
      " [-0.32654464]], shape=(2, 1), dtype=float32)\n"
     ]
    }
   ],
   "source": [
    "# Stochastic gradient descent\n",
    "# use stochastic gradient descent to update w\n",
    "Iters = 1\n",
    "eta = 0.05\n",
    "Loss_mini = []\n",
    "w = tf.Variable(initial_value=[[2.0],[2.0]],shape=(2,1), dtype=tf.float32)\n",
    "Weights = tf.identity(w)\n",
    "for i in range(Iters):\n",
    "    mini_batches = create_mini_batches(X_data, y_data, 1)\n",
    "    for mini_batch in mini_batches:\n",
    "        X_mini, y_mini = mini_batch\n",
    "        Weights = tf.concat([Weights,w],1)\n",
    "        w = w - eta*w_grad(w,X_mini,y_mini)\n",
    "        z = logits(X,w)\n",
    "        Loss_mini.append(tf.reduce_sum(tf.nn.sigmoid_cross_entropy_with_logits(labels=Y,logits=z)).numpy())\n",
    "\n",
    "# test it\n",
    "plt.plot(Loss)\n",
    "plt.plot(Loss_mini)\n",
    "plt.show()\n",
    "print(w)"
   ]
  },
  {
   "cell_type": "markdown",
   "metadata": {},
   "source": [
    "## Prediction\n",
    "### The trained model can be used for prediction"
   ]
  },
  {
   "cell_type": "markdown",
   "metadata": {},
   "source": [
    "### 2.1) Generate a test data"
   ]
  },
  {
   "cell_type": "code",
   "execution_count": 10,
   "metadata": {},
   "outputs": [
    {
     "name": "stdout",
     "output_type": "stream",
     "text": [
      "tf.Tensor(\n",
      "[1. 1. 1. 1. 1. 1. 1. 1. 1. 1. 1. 1. 1. 1. 1. 1. 1. 1. 1. 1. 1. 1. 1. 1.\n",
      " 1. 1. 1. 1. 1. 1. 1. 1. 1. 1. 1. 1. 1. 1. 1. 1. 1. 1. 1. 1. 1. 1. 1. 1.\n",
      " 1. 1. 1. 1. 1. 1. 1. 1. 1. 1. 1. 1. 1. 1. 1. 1. 1. 1. 1. 1. 1. 1. 1. 1.\n",
      " 1. 1. 1. 1. 1. 1. 1. 1. 1. 1. 1. 1. 1. 1. 1. 1. 1. 1. 1. 1. 1. 1. 1. 1.\n",
      " 1. 1. 1. 1. 0. 0. 0. 0. 0. 0. 0. 0. 0. 0. 0. 0. 0. 0. 0. 0. 0. 0. 0. 0.\n",
      " 0. 0. 0. 0. 0. 0. 0. 0. 0. 0. 0. 0. 0. 0. 0. 0. 0. 0. 0. 0. 0. 0. 0. 0.\n",
      " 0. 0. 0. 0. 0. 0. 0. 0. 0. 0. 0. 0. 0. 0. 0. 0. 0. 0. 0. 0. 0. 0. 0. 0.\n",
      " 0. 0. 0. 0. 0. 0. 0. 0. 0. 0. 0. 0. 0. 0. 0. 0. 0. 0. 0. 0. 0. 0. 0. 0.\n",
      " 0. 0. 0. 0. 0. 0. 0. 0.], shape=(200,), dtype=float32)\n"
     ]
    }
   ],
   "source": [
    "# generate test data\n",
    "# class 1\n",
    "s1 = pd.DataFrame(np.random.randn(100,2))\n",
    "y1 = np.int32(np.ones(100))\n",
    "\n",
    "# class 2\n",
    "s2 = pd.DataFrame(np.random.randn(100,2)+ 1.0) \n",
    "y2 = np.int32(0.0*np.ones(100))\n",
    "test_X=pd.concat([s1, s2],axis=0, ignore_index=True)\n",
    "test_X.columns = ['x1','x2']\n",
    "test_Y = pd.Series(np.concatenate([y1,y2]))\n",
    "#subdata['class'] = pd.Series(test_Y)\n",
    "test_X = tf.constant(test_X.values, dtype=tf.float32)\n",
    "#print(test_X)\n",
    "test_Y = tf.constant(test_Y.values, dtype=tf.float32)\n",
    "print(test_Y)"
   ]
  },
  {
   "cell_type": "markdown",
   "metadata": {},
   "source": [
    "### 2.2) Define the sigmoid function"
   ]
  },
  {
   "cell_type": "code",
   "execution_count": 11,
   "metadata": {},
   "outputs": [],
   "source": [
    "def sigmoid(X,w):\n",
    "    return tf.math.sigmoid(logits(X,w))"
   ]
  },
  {
   "cell_type": "markdown",
   "metadata": {},
   "source": [
    "### 2.3) Compute the predicted labels for the test data"
   ]
  },
  {
   "cell_type": "code",
   "execution_count": 12,
   "metadata": {},
   "outputs": [
    {
     "name": "stdout",
     "output_type": "stream",
     "text": [
      "tf.Tensor(\n",
      "[ True False False  True  True False False False  True  True False  True\n",
      " False False False  True False  True  True  True False False  True  True\n",
      "  True  True  True  True  True  True  True False  True False  True  True\n",
      " False  True False  True  True  True False  True False  True False False\n",
      " False  True False  True  True False False False  True False  True  True\n",
      " False  True  True  True False  True  True  True  True  True  True False\n",
      " False  True False  True  True  True False False  True False False False\n",
      "  True False  True False  True False False False  True  True  True  True\n",
      " False  True  True  True False False  True False False  True False False\n",
      " False False False False False False False False False False False False\n",
      " False False False False False False False False False False False False\n",
      " False False False  True False False False False False False False  True\n",
      " False False False False  True False False False False False False False\n",
      " False False False False False False False False False False False False\n",
      " False False False False False False False False  True False False False\n",
      " False False False False False False False False False False False False\n",
      " False False False False False False False False], shape=(200,), dtype=bool)\n"
     ]
    }
   ],
   "source": [
    "# test it\n",
    "prob = tf.squeeze(sigmoid(test_X,w))\n",
    "threshold = 0.5\n",
    "pred_Y = tf.greater(prob,threshold)\n",
    "print(pred_Y)\n"
   ]
  },
  {
   "cell_type": "markdown",
   "metadata": {},
   "source": [
    "### 2.4) Compute the confusion matrix"
   ]
  },
  {
   "cell_type": "code",
   "execution_count": 16,
   "metadata": {},
   "outputs": [
    {
     "name": "stdout",
     "output_type": "stream",
     "text": [
      "tf.Tensor(\n",
      "[[94  6]\n",
      " [42 58]], shape=(2, 2), dtype=int32)\n"
     ]
    }
   ],
   "source": [
    "c_matrix = tf.math.confusion_matrix(test_Y,pred_Y)\n",
    "print(c_matrix)"
   ]
  },
  {
   "cell_type": "markdown",
   "metadata": {},
   "source": [
    "### 2.5) Draw the ROC curve"
   ]
  },
  {
   "cell_type": "code",
   "execution_count": 19,
   "metadata": {},
   "outputs": [],
   "source": [
    "from sklearn.metrics import roc_curve\n",
    "fpr, tpr, thresholds = metrics.roc_curve(test_Y, prob)\n",
    "#print(fpr)\n",
    "#print(tpr)\n",
    "#print(thresholds)"
   ]
  },
  {
   "cell_type": "code",
   "execution_count": 22,
   "metadata": {},
   "outputs": [
    {
     "data": {
      "image/png": "[encoded data removed]",
      "text/plain": [
       "<Figure size 432x288 with 1 Axes>"
      ]
     },
     "metadata": {
      "needs_background": "light"
     },
     "output_type": "display_data"
    }
   ],
   "source": [
    "plt.figure(1)\n",
    "plt.plot([0, 1], [0, 1], 'k--')\n",
    "plt.plot(fpr, tpr, label='LR-SGD')\n",
    "plt.xlabel('False positive rate')\n",
    "plt.ylabel('True positive rate')\n",
    "plt.title('ROC curve')\n",
    "#plt.legend(loc='best')\n",
    "plt.show()"
   ]
  },
  {
   "cell_type": "markdown",
   "metadata": {},
   "source": [
    "## 2. In the following, can you apply the previous GD and SGD to a real world data. The following Pima Indians Diabetes data has 8 features. We want to learn a LR classifier for classification purpose. The data information is provided."
   ]
  },
  {
   "cell_type": "code",
   "execution_count": null,
   "metadata": {},
   "outputs": [],
   "source": [
    "# read the csv file for the Pima Indians Diabetes\n",
    "\n",
    "colnames = ['f1','f2','f3','f4','f5','f6','f7','f8','class']\n",
    "data = pd.read_csv(\"pima-indians-diabetes.csv\",names=colnames,header=None)\n",
    "data.head(5)\n",
    "\n",
    "# lets visualize two columns\n",
    "subdata = data[['f3','f4','class']]\n",
    "groups = subdata.groupby('class')\n",
    "\n",
    "# scatter plots\n",
    "fig, ax = plt.subplots()\n",
    "ax.margins(0.1)\n",
    "for name, group in groups:    \n",
    "    ax.plot(group.f3,group.f4,marker='o',linestyle='',label=name)\n",
    "ax.legend()\n",
    "\n",
    "subdata.head(5)"
   ]
  }
 ],
 "metadata": {
  "kernelspec": {
   "display_name": "Python 3",
   "language": "python",
   "name": "python3"
  },
  "language_info": {
   "codemirror_mode": {
    "name": "ipython",
    "version": 3
   },
   "file_extension": ".py",
   "mimetype": "text/x-python",
   "name": "python",
   "nbconvert_exporter": "python",
   "pygments_lexer": "ipython3",
   "version": "3.8.3"
  }
 },
 "nbformat": 4,
 "nbformat_minor": 4
}
