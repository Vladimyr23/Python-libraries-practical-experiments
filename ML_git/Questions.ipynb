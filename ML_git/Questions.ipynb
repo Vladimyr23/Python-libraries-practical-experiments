{
 "cells": [
  {
   "cell_type": "markdown",
   "metadata": {},
   "source": [
    "**Question 1**: Suppose you are training a machine learning model on a data. Answer the following two questions and justify your answers:\n",
    "1. When the number of training examples goes to infinity, will you model trained on the data have lower variance, higher variance or same variance? \n",
    "2. When the number of training examples goes to infinity, will you model trained on the data have lower bias, higher bias or same bias? "
   ]
  },
  {
   "cell_type": "markdown",
   "metadata": {},
   "source": []
  },
  {
   "cell_type": "markdown",
   "metadata": {},
   "source": [
    "**Question 2**: A student is working on a machine-learning approach to spam detection. The\n",
    "task is to detect if an email is a spam. He has 100 labelled emails, 90% of which are used\n",
    "for training and 10% for validating the model. The student applied 10 different learning\n",
    "algorithms, training each one on the training examples, and recording the accuracy on the\n",
    "validation set. The best performance among the 10 algorithms achieves 90% accuracy.\n",
    "This is assuring that the best algorithm is good enough to be deployed."
   ]
  },
  {
   "cell_type": "markdown",
   "metadata": {},
   "source": []
  },
  {
   "cell_type": "markdown",
   "metadata": {},
   "source": [
    "**Question 3**: Explain the principle of the gradient descent algorithm. Accompany\n",
    "your explanation with a diagram. Explain the use of all the terms and constants\n",
    "that you introduce and comment on the range of values that they can take."
   ]
  }
 ],
 "metadata": {
  "kernelspec": {
   "display_name": "Python 3",
   "language": "python",
   "name": "python3"
  },
  "language_info": {
   "codemirror_mode": {
    "name": "ipython",
    "version": 3
   },
   "file_extension": ".py",
   "mimetype": "text/x-python",
   "name": "python",
   "nbconvert_exporter": "python",
   "pygments_lexer": "ipython3",
   "version": "3.7.6"
  }
 },
 "nbformat": 4,
 "nbformat_minor": 4
}
