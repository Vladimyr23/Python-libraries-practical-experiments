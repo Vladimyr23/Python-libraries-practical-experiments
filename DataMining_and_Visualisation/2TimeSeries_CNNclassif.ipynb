{
  "nbformat": 4,
  "nbformat_minor": 0,
  "metadata": {
    "colab": {
      "name": "Practical_2_Solutions.ipynb",
      "provenance": [],
      "collapsed_sections": [
        "d661Upj6zWWk",
        "2xSt4txlK1SU",
        "cXCXoHKBv70K",
        "1JrlmQAe9Cd6"
      ],
      "toc_visible": true
    },
    "kernelspec": {
      "name": "python3",
      "display_name": "Python 3"
    },
    "accelerator": "GPU"
  },
  "cells": [
    {
      "cell_type": "markdown",
      "metadata": {
        "id": "oL0Rtc8BugYw"
      },
      "source": [
        "# **Lecture Day 2 Practical** - 09/03/21\r\n",
        "# **Time Series Analysis and Classification**\r\n",
        "\r\n",
        "Today we will explore some of the topics we explored in todays Time Series Analysis Lecture. Our data domain in question is Nuclear Power plant neutron flux detector readings for a Pressurised Water Reactor (PWR).\r\n",
        "\r\n",
        "For more details on this work check out the references section at the bottom of the notebook or just have a chat with me (Aiden)!\r\n",
        "\r\n",
        "We will first undertake some straightforward time series pre-processing, then build a classifier network to determine which type of anomaly is present.\r\n",
        "\r\n",
        "Any questions after the practical session just drop me an email:\r\n",
        "\r\n",
        "a.durrant.20@abdn.ac.uk\r\n",
        "\r\n",
        " \\- Aiden"
      ]
    },
    {
      "cell_type": "markdown",
      "metadata": {
        "id": "d661Upj6zWWk"
      },
      "source": [
        "##**Outline and Objectives:**\r\n",
        "Today we aim to use the time series processing methods from the lecture to preprocess the reactor detector readings, augment the sequences for computational efficiency, construct a classifier to determine anomaly type, and visualise the output representations. \r\n",
        "- [ ] Remove noise\r\n",
        "- [ ] Augment into smaller subsequences.\r\n",
        "- [ ] Split the processed data to construct a training, validation, and test set.\r\n",
        "- [ ] Normalize the data feature-wise!\r\n",
        "- [ ] Build a Recurrent Neural Network (RNN) classifier.\r\n",
        "- [ ] Build convolutional neural networks (CNNs) classifier.\r\n",
        "- [ ] Train the model / tune the hyperparameters.\r\n",
        "- [ ] Visualise the results via t-SNE to view the seperation of classes in representation space.\r\n",
        "\r\n",
        "**Bonus Tasks (if you have time or find this interesting)**\r\n",
        "- [ ] Train the model with the multi-class one hot labels to determine specific anomalies rather than scenarios!\r\n",
        "- [ ] Implement an attention network classifier.\r\n",
        "\r\n",
        "To check off the tasks update the markdown '- [ ]' -> to '- [x]'"
      ]
    },
    {
      "cell_type": "markdown",
      "metadata": {
        "id": "2xSt4txlK1SU"
      },
      "source": [
        "## **Remember!**\n",
        "Set your runtime type to allow GPU utilization!\n",
        "\n",
        "`Runtime -> Change runtime type -> GPU`\n",
        "\n",
        "If you get stuck with Colab check out the practical from Day one or have a look at these examples: \\\\\n",
        "- https://colab.research.google.com/notebooks/intro.ipynb \\\\\n",
        "- https://jupyter-notebook.readthedocs.io/en/stable/notebook.html\n"
      ]
    },
    {
      "cell_type": "markdown",
      "metadata": {
        "id": "cXCXoHKBv70K"
      },
      "source": [
        "# **Data Description**\r\n",
        "Let us first upload the appropriate dataset that can be found on MyAberdeen: `Day2_Practical_Data.zip`\r\n",
        "\r\n",
        "This will contain 8 numpy `.npz` files each corresponding to a particular anomalous scenario (our classes) and readings of 56 detectors for 35 Seconds.\r\n",
        "\r\n",
        "Simply unzip the file and drag and drop the `.npz` files into the **'files'** of the colab environment (sidebar, file icon, below the **'< >'** icon. It should contain a directory called **sample_data/** ).\r\n",
        "\r\n",
        "The file structure should end up like this!\r\n",
        "\r\n",
        "```\r\n",
        "sample_data/\r\n",
        "|\r\n",
        "|\r\n",
        "2020-08-DatasetWorkshop-Sc1.mat\r\n",
        "2020-08-DatasetWorkshop-Sc2.mat\r\n",
        "2020-08-DatasetWorkshop-Sc3.mat\r\n",
        "2020-08-DatasetWorkshop-Sc4.mat\r\n",
        "2020-08-DatasetWorkshop-Sc5.mat\r\n",
        "2020-08-DatasetWorkshop-Sc6.mat\r\n",
        "2020-08-DatasetWorkshop-Sc7.mat\r\n",
        "2020-08-DatasetWorkshop-Sc8.mat\r\n",
        "```\r\n",
        "\r\n",
        "Each scenarios represents an synthetically induced anomaly in the reactor core, the output is the amplitude of the neutron flux (change in neutrons from nomial levels) from 56 neutron detectors. The specific anomalies per scenario are given below:\r\n"
      ]
    },
    {
      "cell_type": "markdown",
      "metadata": {
        "id": "l5nDRYzvv6hu"
      },
      "source": [
        "# **Data Loading** \r\n",
        "\r\n",
        "Let's get started! I have provied a simple loading script to load, and store the raw data in numpy arrays with all scenarios an entry in a dictionary.\r\n",
        "\r\n",
        "Dictionary containing all scenarios, with each entry containing a dictionary of that scenarios **'signal'**, **'scenario'**, and **'det_lab'**.\r\n",
        "\r\n",
        "This may not be the most efficient but it keeps everything neat and easily accessible through keys!"
      ]
    },
    {
      "cell_type": "markdown",
      "metadata": {
        "id": "scIz8uSnbHCP"
      },
      "source": [
        "## **Imports**\n",
        "\n",
        "Next, let us load all the appropriate modules"
      ]
    },
    {
      "cell_type": "code",
      "metadata": {
        "id": "7I_hhHjTv5v9"
      },
      "source": [
        "import os\r\n",
        "import shutil\r\n",
        "import random\r\n",
        "import math\r\n",
        "import numpy as np\r\n",
        "import glob as glob # For easy pathname pattern matching\r\n",
        "from tqdm import tqdm # Aesthetic progress bar\r\n",
        "import sklearn.metrics as metrics # Easier metric definition\r\n",
        "from sklearn.manifold import TSNE # Dimensionality reduction for visualisation.\r\n",
        "from matplotlib import pyplot as plt # Plotting\r\n",
        "import natsort # better sorting\r\n",
        "from scipy import signal as sig\r\n",
        "\r\n",
        "from tensorflow import keras\r\n",
        "from tensorflow.keras import regularizers\r\n",
        "from keras import backend as K"
      ],
      "execution_count": 1,
      "outputs": []
    },
    {
      "cell_type": "markdown",
      "metadata": {
        "id": "EjlGKqE4vXdp"
      },
      "source": [
        "Loading the data!"
      ]
    },
    {
      "cell_type": "code",
      "metadata": {
        "id": "MBYAMS_d2jiX",
        "colab": {
          "base_uri": "https://localhost:8080/"
        },
        "outputId": "8e8d1d81-4df4-4a80-c7c2-e17b78960e6f"
      },
      "source": [
        "data_sc_paths = ['2020-08-DatasetWorkshop-Sc1.npz', '2020-08-DatasetWorkshop-Sc2.npz',\n",
        "                 '2020-08-DatasetWorkshop-Sc3.npz', '2020-08-DatasetWorkshop-Sc4.npz',\n",
        "                 '2020-08-DatasetWorkshop-Sc5.npz', '2020-08-DatasetWorkshop-Sc6.npz',\n",
        "                 '2020-08-DatasetWorkshop-Sc7.npz', '2020-08-DatasetWorkshop-Sc8.npz']\n",
        "\n",
        "labels = [[1,0,0,0,0,0,0,0],\n",
        "          [0,1,0,0,0,0,0,0],\n",
        "          [0,0,1,0,0,0,0,0],\n",
        "          [0,0,0,1,0,0,0,0],\n",
        "          [0,0,0,0,1,0,0,0],\n",
        "          [0,0,0,0,0,1,0,0],\n",
        "          [0,0,0,0,0,0,1,0],\n",
        "          [0,0,0,0,0,0,0,1]]\n",
        "\n",
        "data_sc = {}\n",
        "\n",
        "# For each of the paths in the list 'data_sc_paths' \n",
        "for p in data_sc_paths:\n",
        "  # Get the scenario number to use as a dictionary key\n",
        "  sc = str(p[-5])\n",
        "\n",
        "  # Load Data\n",
        "  data = np.load(p)\n",
        "  signal = data['x']\n",
        "  scenario = data['y']\n",
        "  det_label = data['x_det']\n",
        "\n",
        "  signal = np.nan_to_num(signal, nan=1E-10)\n",
        "\n",
        "  # Store a dict inside the dictionary of scenarios\n",
        "  data_sc[sc] = {'signal': signal, 'scenario': int(scenario), 'det_label': det_label, 'one_hot': labels[int(sc)-1]}\n",
        "\n",
        "# Data scenario 1 -> (3501,56)\n",
        "print(data_sc['1']['signal'].shape)  "
      ],
      "execution_count": 2,
      "outputs": [
        {
          "output_type": "stream",
          "text": [
            "(3501, 56)\n"
          ],
          "name": "stdout"
        }
      ]
    },
    {
      "cell_type": "markdown",
      "metadata": {
        "id": "mO1317ml29Si"
      },
      "source": [
        "# **Pre-Processing**\r\n",
        "Before we can do any analysis we first have to pre-process the data!"
      ]
    },
    {
      "cell_type": "markdown",
      "metadata": {
        "id": "Jn7-1_XMkgHf"
      },
      "source": [
        "## **Noise removal**\n",
        "\n",
        "Fortunately for us, the nice nuclear physicists have already removed the trend present that represents the decay in effectiveness of the detectors due to nuclear radition deteriation. This is one less job for us!\n",
        "\n",
        "However, there is still a considerable amount of noise present in the signals.\n",
        "\n",
        "First, we'll plot a signal from one detector from a scenario!"
      ]
    },
    {
      "cell_type": "code",
      "metadata": {
        "id": "eWinQR5X3mXV",
        "colab": {
          "base_uri": "https://localhost:8080/",
          "height": 295
        },
        "outputId": "581d0b8b-a15d-47c8-8ae8-4df8b150c038"
      },
      "source": [
        "# Plot the noisy signal of scneario 6 detector 1\n",
        "s = data_sc['6']['signal']\n",
        "\n",
        "plt.plot(range(len(s[:,1])), s[:,1])\n",
        "plt.title('Noisy Signal')\n",
        "plt.ylabel('Neutron Flux')\n",
        "plt.xlabel('Time (ms)')\n",
        "plt.show()"
      ],
      "execution_count": 3,
      "outputs": [
        {
          "output_type": "display_data",
          "data": {
            "image/png": "[encoded data removed]",
            "text/plain": [
              "<Figure size 432x288 with 1 Axes>"
            ]
          },
          "metadata": {
            "tags": [],
            "needs_background": "light"
          }
        }
      ]
    },
    {
      "cell_type": "markdown",
      "metadata": {
        "id": "RRKpynSheuFb"
      },
      "source": [
        "Now for all the scenarios and for each of the 56 detectors, independently smooth the signal!\n",
        "\n",
        "You can overwrite the signal in the dictionaries with the smoothed signal or save it as a new entry in the dictionary.\n",
        "\n",
        "<br>\n",
        "\n",
        "**Tip:**\n",
        "refer back to the lecture for smoothing filters.\n",
        "\n",
        "You can also use a built in function [scipy.signal.medfilt](https://docs.scipy.org/doc/scipy/reference/generated/scipy.signal.medfilt.html#scipy.signal.medfilt). *Hint: set k to change the width of the median window!*\n",
        "\n",
        "If you do decide to implement yourself, try the median filter first and np.median() this is slightly simpler to implement!\n",
        "```\n",
        "for s in data_sc:\n",
        "  signal = data_sc[s]['signal']\n",
        "  for i in range(num_det):\n",
        "    signal_d = signal[:,d]\n",
        "    smoothed_signal = some_smoothing(signal_d)\n",
        "    signal[:,d] = smoothed_signal\n",
        "  data_sc[s]['dn_signal'] = signal\n",
        "```"
      ]
    },
    {
      "cell_type": "code",
      "metadata": {
        "id": "AOPZi5Zkel2T",
        "colab": {
          "base_uri": "https://localhost:8080/",
          "height": 295
        },
        "outputId": "5f68d6be-7aea-4df2-b052-f0c267588162"
      },
      "source": [
        "## TASK: YOUR CODE ##\n",
        "\n",
        "\n",
        "k = 5\n",
        "# Numpy Approach\n",
        "for s in data_sc:\n",
        "  signal = data_sc[s]['signal']\n",
        "  for d in range(56):\n",
        "    signal_d = signal[:,d]\n",
        "    k2 = (k - 1) // 2\n",
        "    y = np.zeros((len(signal_d), k))\n",
        "    y[:,k2] = signal_d\n",
        "    for i in range (k2):\n",
        "        j = k2 - i\n",
        "        y[j:,i] = signal_d[:-j]\n",
        "        y[:j,i] = signal_d[0]\n",
        "        y[:-j,-(i+1)] = signal_d[j:]\n",
        "        y[-j:,-(i+1)] = signal_d[-1]\n",
        "    dn_signal = np.mean(y, axis=1)\n",
        "    signal[:,d] = dn_signal\n",
        "  data_sc[s]['dn_signal'] = signal\n",
        "\n",
        "# Scipy Approach\n",
        "for s in data_sc:\n",
        "  signal = data_sc[s]['signal']\n",
        "  for d in range(56):\n",
        "    signal_d = signal[:,d]\n",
        "    dn_signal = sig.medfilt(signal_d, kernel_size=k)\n",
        "    signal[:,d] = dn_signal\n",
        "  data_sc[s]['dn_signal'] = signal\n",
        "  \n",
        "## END ##\n",
        "\n",
        "# Plot the de-noised signal of scneario 6 detector 1\n",
        "s = data_sc['6']['dn_signal']\n",
        "\n",
        "plt.plot(range(len(s[:,1])), s[:,1])\n",
        "plt.title('Smoothed Signal')\n",
        "plt.ylabel('Neutron Flux')\n",
        "plt.xlabel('Time (ms)')\n",
        "plt.show()"
      ],
      "execution_count": 4,
      "outputs": [
        {
          "output_type": "display_data",
          "data": {
            "image/png": "[encoded data removed]",
            "text/plain": [
              "<Figure size 432x288 with 1 Axes>"
            ]
          },
          "metadata": {
            "tags": [],
            "needs_background": "light"
          }
        }
      ]
    },
    {
      "cell_type": "markdown",
      "metadata": {
        "id": "bTIIZgsq3mqg"
      },
      "source": [
        "## **Sliding Window**\r\n",
        "\r\n",
        "Now we have clean sequences, we need to process the relatively long signal (T=3500 >> 35 seconds) into smaller sub-sequences for 3 reasons:\r\n",
        "\r\n",
        "\r\n",
        "1.   We need more training samples.\r\n",
        "2.   35 seconds is substantially long reading needed to detect an anomaly. In reality anomalies happen very very quickly (~1 second) so we will aim to detect anomalies given < 1 second of readings.\r\n",
        "3.   Sequences of 3500 will be far to computationally expensive.\r\n",
        "\r\n",
        "\r\n",
        "From our **'signal'** `(3501,56)` we want to end up with a new array of size: `(num_samples, window_size, 56)` per scenario.\r\n",
        "\r\n",
        "Again you can overwrite your signal array in the dictionary or enter a new entry.\r\n",
        "\r\n"
      ]
    },
    {
      "cell_type": "code",
      "metadata": {
        "id": "GEETRURT50sB"
      },
      "source": [
        "# These Params Control the Sliding Window\n",
        "WIN_WIDTH = 100\n",
        "OVERLAP = 5\n",
        "\n",
        "## TASK: YOUR CODE ##\n",
        "for s in data_sc:\n",
        "  signal = data_sc[s]['dn_signal']\n",
        "\n",
        "  #print(signal.shape[0])\n",
        "\n",
        "  split_signal = []\n",
        "\n",
        "  for window in range(0, signal.shape[0]-WIN_WIDTH, OVERLAP):\n",
        "    signal_window = signal[window:window+WIN_WIDTH, :]\n",
        "\n",
        "    split_signal.append(signal_window)\n",
        "\n",
        "  split_signal = np.asarray(split_signal)\n",
        "\n",
        "  data_sc[s]['split_signal'] = split_signal\n",
        "\n",
        "## END ##"
      ],
      "execution_count": 5,
      "outputs": []
    },
    {
      "cell_type": "markdown",
      "metadata": {
        "id": "27BF-tus51X3"
      },
      "source": [
        "## **Train, Validation, and Test Set**\r\n",
        "We now have a dictionary for each scenario containing the de-noised and windowed signal. But before we start building our classifier, we need to split our dataset into our Train and Evaluation sets.\r\n",
        "\r\n",
        "We will undertake this in the most simple manner for this practical, 70% Train, 15% Validation, and 15% Test. This will be done along the time steps.\r\n",
        "\r\n",
        "**Note:** The split must be done over time steps, we cannot have sequences of the same time window apprearing across sets, even if from different detectors.\r\n",
        "\r\n",
        "To keep things simple, we'll take our processed signal once split and store them as numpy arrays \r\n",
        "```\r\n",
        "Train_X = np.array() # (train_samples, window_size, 56)\r\n",
        "Valid_X = np.array() # (test_samples, window_size, 56)\r\n",
        "Test_X = np.array()  # (valid_samples, window_size, 56)\r\n",
        "\r\n",
        "Train_Y = np.array() # (train_samples, 1)\r\n",
        "Valid_Y = np.array() # (test_samples, 1)\r\n",
        "Test_Y = np.array()  # (valid_samples, 1)\r\n",
        "```"
      ]
    },
    {
      "cell_type": "code",
      "metadata": {
        "id": "TA470sCL7AXW"
      },
      "source": [
        "Train_X, Valid_X, Test_X = [], [] ,[]\n",
        "Train_Y, Valid_Y, Test_Y = [], [] ,[]\n",
        "\n",
        "# Params\n",
        "train_fac = 0.7\n",
        "val_fac = 0.15\n",
        "test_fac = 0.15\n",
        "\n",
        "## TASK: YOUR CODE ##\n",
        "\n",
        "for s in data_sc:\n",
        "  samples = data_sc[s]['split_signal']\n",
        "  num_samples =  samples.shape[0]\n",
        "\n",
        "  # Calculate the number of samples in each subset\n",
        "  train_len = math.floor(num_samples * 0.7)\n",
        "  val_len = math.floor(num_samples * 0.15)\n",
        "  test_len = math.floor(num_samples * 0.15)\n",
        "\n",
        "  # Add the appropriate number of samples to each subset.\n",
        "  # Overlap is not carried between sets as the samples are ordered.\n",
        "  Train_X += list(samples[:train_len,...])\n",
        "  Valid_X += list(samples[train_len:(train_len+val_len),...])\n",
        "  Test_X += list(samples[(train_len+val_len):(train_len+val_len+test_len),...])\n",
        "\n",
        "  # Labels\n",
        "  Train_Y += [data_sc[s]['one_hot']] * train_len\n",
        "  Valid_Y += [data_sc[s]['one_hot']] * val_len\n",
        "  Test_Y += [data_sc[s]['one_hot']] * test_len\n",
        "\n",
        "# To numpy because numpy is nice :)\n",
        "Train_X = np.asarray(Train_X)\n",
        "Valid_X = np.asarray(Valid_X)\n",
        "Test_X = np.asarray(Test_X)\n",
        "Train_Y = np.asarray(Train_Y, dtype=np.int32)\n",
        "Valid_Y = np.asarray(Valid_Y, dtype=np.int32)\n",
        "Test_Y = np.asarray(Test_Y, dtype=np.int32)\n",
        "\n",
        "## END ##"
      ],
      "execution_count": 6,
      "outputs": []
    },
    {
      "cell_type": "markdown",
      "metadata": {
        "id": "kwHE0gth7Ay1"
      },
      "source": [
        "## **Data Normalisation**\n",
        "\n",
        "Normalisation is a key step in data pre-processing for DNNs, ensuring all features have the same scale, and therefore ensuring all features are weighted equally in the learning procedure!\n",
        "\n",
        "More info can be found here: https://developers.google.com/machine-learning/data-prep/transform/normalization \n",
        "\n",
        "So your task is to simply normalise each sample feature wise!\n",
        "\n",
        "**Tip:**\n",
        "Compute the mean and std for each set for each of the 56 detectors!\n",
        "\n",
        "x = (x - x.mean()) / x.std()"
      ]
    },
    {
      "cell_type": "code",
      "metadata": {
        "id": "4277Xof_7FIr"
      },
      "source": [
        "## TASK: YOUR CODE ##\n",
        "def norm(x):\n",
        "  \n",
        "  mean = x.mean(axis=(0,1))\n",
        "  std = x.std(axis=(0,1))\n",
        "\n",
        "  x = (x - mean) / (std + 1E-10)\n",
        "\n",
        "  return x\n",
        "\n",
        "Train_X = norm(Train_X)\n",
        "Valid_X = norm(Valid_X)\n",
        "Test_X = norm(Test_X)\n",
        "\n",
        "## END ##"
      ],
      "execution_count": 7,
      "outputs": []
    },
    {
      "cell_type": "markdown",
      "metadata": {
        "id": "-RRe7nYG0Uzm"
      },
      "source": [
        "# **Build the Model**\r\n",
        "\r\n",
        "Now it's time for the bit I find fun, building the classification networks!\r\n",
        "\r\n",
        "I am asking you to build me both a CNN and RNN!\r\n",
        "\r\n",
        "I have provided a rough layout via functions that define the models, but this is just my style. If you wish to code in a different style (i.e. using `Sequential()` [Doc](https://www.tensorflow.org/guide/keras/sequential_model)) then feel free to do so!\r\n",
        "\r\n",
        "This is your work, make it your own!"
      ]
    },
    {
      "cell_type": "markdown",
      "metadata": {
        "id": "FbvlTkUF7F1b"
      },
      "source": [
        "## **RNN Classifier**\r\n",
        "[RNN Keras Tutorial](https://www.tensorflow.org/guide/keras/rnn)\\\r\n",
        "[RNN Keras Documentation](https://keras.io/api/layers/#recurrent-layers)"
      ]
    },
    {
      "cell_type": "code",
      "metadata": {
        "id": "q5aFNZZ07KDQ"
      },
      "source": [
        "def rnn_model(args, input_shape, num_classes):\n",
        "    input_layer = keras.layers.Input(input_shape)\n",
        "\n",
        "    ## TASK: YOUR CODE ##\n",
        "\n",
        "    lstm1 = keras.layers.LSTM(2, return_sequences=True, kernel_regularizer=regularizers.l1_l2(l1=args['wd']*0.1, l2=args['wd']),\n",
        "    bias_regularizer=regularizers.l2(args['wd']), recurrent_regularizer=regularizers.l2(args['wd']))(input_layer)\n",
        "\n",
        "    lstm2 = keras.layers.LSTM(2, return_sequences=False, kernel_regularizer=regularizers.l1_l2(l1=args['wd']*0.1, l2=args['wd']),\n",
        "    bias_regularizer=regularizers.l2(args['wd']), recurrent_regularizer=regularizers.l2(args['wd']))(lstm1)\n",
        "\n",
        "    output_layer = keras.layers.Dense(num_classes, activation=\"softmax\")(lstm2)\n",
        "\n",
        "    ## END ##\n",
        "    return keras.models.Model(inputs=input_layer, outputs=output_layer)"
      ],
      "execution_count": 8,
      "outputs": []
    },
    {
      "cell_type": "markdown",
      "metadata": {
        "id": "NNdUGqhb7MMH"
      },
      "source": [
        "## **CNN Classifier**\r\n",
        "[CNN Keras Tutorial](https://www.tensorflow.org/tutorials/images/cnn)\\\r\n",
        "[CNN Keras Documentation](https://keras.io/api/layers/#convolution-layers)"
      ]
    },
    {
      "cell_type": "code",
      "metadata": {
        "id": "cWYNGjgy7RZf"
      },
      "source": [
        "def cnn_model(args, input_shape, num_classes):\n",
        "    input_layer = keras.layers.Input(input_shape)\n",
        "\n",
        "    ## TASK: YOUR CODE ##\n",
        "\n",
        "    conv1 = keras.layers.Conv1D(filters=16, kernel_size=3, padding=\"same\", kernel_regularizer=regularizers.l1_l2(l1=args['wd']*0.1, l2=args['wd']),\n",
        "    bias_regularizer=regularizers.l2(args['wd']))(input_layer)\n",
        "    conv1 = keras.layers.BatchNormalization()(conv1)\n",
        "    conv1 = keras.layers.ReLU()(conv1)\n",
        "    conv1 = keras.layers.Dropout(args['drop'])(conv1)\n",
        "\n",
        "    conv2 = keras.layers.Conv1D(filters=16, kernel_size=3, padding=\"same\", kernel_regularizer=regularizers.l1_l2(l1=args['wd']*0.1, l2=args['wd']),\n",
        "    bias_regularizer=regularizers.l2(args['wd']))(conv1)\n",
        "    conv2 = keras.layers.BatchNormalization()(conv2)\n",
        "    conv2 = keras.layers.ReLU()(conv2)\n",
        "    conv2 = keras.layers.Dropout(args['drop'])(conv2)\n",
        "\n",
        "    conv3 = keras.layers.Conv1D(filters=32, kernel_size=3, padding=\"same\", kernel_regularizer=regularizers.l1_l2(l1=args['wd']*0.1, l2=args['wd']),\n",
        "    bias_regularizer=regularizers.l2(args['wd']))(conv2)\n",
        "    conv3 = keras.layers.BatchNormalization()(conv3)\n",
        "    conv3 = keras.layers.ReLU()(conv3)\n",
        "    conv3 = keras.layers.Dropout(args['drop'])(conv3)\n",
        "\n",
        "    gap = keras.layers.GlobalAveragePooling1D()(conv3)\n",
        "\n",
        "    output_layer = keras.layers.Dense(num_classes, activation=\"softmax\")(gap)\n",
        "    ## END ##\n",
        "    return keras.models.Model(inputs=input_layer, outputs=output_layer)"
      ],
      "execution_count": 9,
      "outputs": []
    },
    {
      "cell_type": "markdown",
      "metadata": {
        "id": "va1T5J7T0b9M"
      },
      "source": [
        "# **Run the Model**\r\n",
        "\r\n",
        "Now the bit where it all comes together!\r\n",
        "I've provided alot of the code using my style, but as with the previous section feel free to adapt it to how you like to write!"
      ]
    },
    {
      "cell_type": "markdown",
      "metadata": {
        "id": "s8gQ-_dx7WZQ"
      },
      "source": [
        "## **Training Loop**\r\n",
        "\r\n",
        "[Model Keras Documentation](https://keras.io/api/models/)"
      ]
    },
    {
      "cell_type": "code",
      "metadata": {
        "id": "sZg9U81r7WAD"
      },
      "source": [
        "def train(args):\n",
        "\n",
        "  # You can change these as you see fit!\n",
        "  callbacks = [\n",
        "    keras.callbacks.ModelCheckpoint(\"training/cp.ckpt\", save_best_only=True, monitor=\"val_loss\"),\n",
        "    keras.callbacks.ReduceLROnPlateau(monitor=\"val_loss\", factor=0.5, patience=15, min_lr=0.0001),\n",
        "    keras.callbacks.EarlyStopping(monitor=\"val_loss\", patience=50, verbose=1),\n",
        "    ]\n",
        "\n",
        "  # Initialise your model\n",
        "  model = cnn_model(args, input_shape=Train_X.shape[1:], num_classes=8)\n",
        "\n",
        "  # Gradient Descent algorithm / Optimiser\n",
        "  opt = keras.optimizers.Adam(learning_rate=0.01)\n",
        "\n",
        "  # Compile the model\n",
        "  model.compile(optimizer=opt,\n",
        "      loss=\"categorical_crossentropy\",\n",
        "      metrics=[\"categorical_accuracy\"],)\n",
        "  \n",
        "  # Train the model\n",
        "  history = model.fit(\n",
        "      Train_X,\n",
        "      Train_Y,\n",
        "      batch_size=args['batch_size'],\n",
        "      epochs=args['epochs'],\n",
        "      callbacks=callbacks,\n",
        "      validation_data=(Valid_X,Valid_Y),\n",
        "      verbose=1,\n",
        "      shuffle=True\n",
        "  )\n",
        "\n",
        "  return history\n"
      ],
      "execution_count": 10,
      "outputs": []
    },
    {
      "cell_type": "markdown",
      "metadata": {
        "id": "1BcXIQwk7Zno"
      },
      "source": [
        "## **Evaluation Loop**"
      ]
    },
    {
      "cell_type": "code",
      "metadata": {
        "id": "vUuQmTXK7cbi"
      },
      "source": [
        "def eval(args):\n",
        "  # Load the Trained Model\n",
        "  model = keras.models.load_model(\"training/cp.ckpt\")\n",
        "\n",
        "  # Test the model\n",
        "  test_loss, test_acc = model.evaluate(Test_X, Test_Y)\n",
        "\n",
        "  # Get the activations / Representations from the GAP layer\n",
        "  # change '-1' to define which layer you want (-1 = last layer, -2 = second to last layer)\n",
        "  get_layer_output = K.function([model.layers[0].input],\n",
        "                                  [model.layers[-1].output]) \n",
        "  output_rep = get_layer_output([Test_X])[0]\n",
        "\n",
        "  print(\"Test accuracy\", test_acc)\n",
        "  print(\"Test loss\", test_loss)\n",
        "\n",
        "  return output_rep"
      ],
      "execution_count": 11,
      "outputs": []
    },
    {
      "cell_type": "markdown",
      "metadata": {
        "id": "MBBbLW6O7x9H"
      },
      "source": [
        "## **Run**\r\n",
        "\r\n",
        "To keep things clean and tidy to experiment, we define all the hyperparameters whilst launching the training. We parse the `args` dictionary to both the train and eval loop which contains all the user defined parameters!\r\n",
        "\r\n",
        "**Tip:**\r\n",
        "Be carful when training on this data that you don't *overfit* to the training set! You can implement the following to address this!\\\r\n",
        "[Weight Regularization](https://keras.io/api/layers/regularizers/)\\\r\n",
        "[Dropout](https://keras.io/api/layers/regularization_layers/dropout/)\r\n",
        "\\\r\n",
        "\\\r\n",
        "If you have any errors just **Runtime -> Restart and run all**. This will end all currently operating cells, restart and run all cells sequentially"
      ]
    },
    {
      "cell_type": "code",
      "metadata": {
        "id": "uKz_vowj72lI",
        "colab": {
          "base_uri": "https://localhost:8080/"
        },
        "outputId": "10d4f530-035e-4eb8-86b8-737a4d48f0cc"
      },
      "source": [
        "# HyperParams\n",
        "args = {'epochs': 100, 'batch_size': 64, 'wd': 0.01, 'drop':0.25}\n",
        "\n",
        "# Train the Network\n",
        "history = train(args)\n",
        "\n",
        "# Test the Network\n",
        "output_rep = eval(args)"
      ],
      "execution_count": 12,
      "outputs": [
        {
          "output_type": "stream",
          "text": [
            "Epoch 1/100\n",
            "60/60 [==============================] - 35s 18ms/step - loss: 1.8071 - categorical_accuracy: 0.6427 - val_loss: 1.8501 - val_categorical_accuracy: 0.2917\n",
            "INFO:tensorflow:Assets written to: training/cp.ckpt/assets\n",
            "Epoch 2/100\n",
            "60/60 [==============================] - 0s 7ms/step - loss: 0.3255 - categorical_accuracy: 0.9787 - val_loss: 1.5030 - val_categorical_accuracy: 0.6422\n",
            "INFO:tensorflow:Assets written to: training/cp.ckpt/assets\n",
            "Epoch 3/100\n",
            "60/60 [==============================] - 1s 9ms/step - loss: 0.2683 - categorical_accuracy: 0.9897 - val_loss: 0.7738 - val_categorical_accuracy: 0.9338\n",
            "INFO:tensorflow:Assets written to: training/cp.ckpt/assets\n",
            "Epoch 4/100\n",
            "60/60 [==============================] - 0s 7ms/step - loss: 0.2700 - categorical_accuracy: 0.9877 - val_loss: 0.9701 - val_categorical_accuracy: 0.7243\n",
            "Epoch 5/100\n",
            "60/60 [==============================] - 0s 8ms/step - loss: 0.3293 - categorical_accuracy: 0.9890 - val_loss: 2.0905 - val_categorical_accuracy: 0.6152\n",
            "Epoch 6/100\n",
            "60/60 [==============================] - 0s 7ms/step - loss: 0.4882 - categorical_accuracy: 0.9585 - val_loss: 0.4424 - val_categorical_accuracy: 0.9498\n",
            "INFO:tensorflow:Assets written to: training/cp.ckpt/assets\n",
            "Epoch 7/100\n",
            "60/60 [==============================] - 1s 9ms/step - loss: 0.2568 - categorical_accuracy: 0.9888 - val_loss: 0.9548 - val_categorical_accuracy: 0.7071\n",
            "Epoch 8/100\n",
            "60/60 [==============================] - 0s 8ms/step - loss: 0.2774 - categorical_accuracy: 0.9776 - val_loss: 4.8608 - val_categorical_accuracy: 0.3088\n",
            "Epoch 9/100\n",
            "60/60 [==============================] - 1s 9ms/step - loss: 0.3322 - categorical_accuracy: 0.9884 - val_loss: 2.4784 - val_categorical_accuracy: 0.5980\n",
            "Epoch 10/100\n",
            "60/60 [==============================] - 0s 8ms/step - loss: 0.2608 - categorical_accuracy: 0.9947 - val_loss: 0.7539 - val_categorical_accuracy: 0.7598\n",
            "Epoch 11/100\n",
            "60/60 [==============================] - 0s 7ms/step - loss: 0.2915 - categorical_accuracy: 0.9777 - val_loss: 2.0054 - val_categorical_accuracy: 0.7047\n",
            "Epoch 12/100\n",
            "60/60 [==============================] - 0s 8ms/step - loss: 0.2457 - categorical_accuracy: 0.9986 - val_loss: 1.9170 - val_categorical_accuracy: 0.5919\n",
            "Epoch 13/100\n",
            "60/60 [==============================] - 0s 7ms/step - loss: 0.2697 - categorical_accuracy: 0.9912 - val_loss: 0.8438 - val_categorical_accuracy: 0.8051\n",
            "Epoch 14/100\n",
            "60/60 [==============================] - 0s 7ms/step - loss: 0.3661 - categorical_accuracy: 0.9899 - val_loss: 1.6612 - val_categorical_accuracy: 0.6605\n",
            "Epoch 15/100\n",
            "60/60 [==============================] - 0s 7ms/step - loss: 0.1749 - categorical_accuracy: 0.9983 - val_loss: 2.3527 - val_categorical_accuracy: 0.3480\n",
            "Epoch 16/100\n",
            "60/60 [==============================] - 0s 7ms/step - loss: 0.5113 - categorical_accuracy: 0.9355 - val_loss: 1.2910 - val_categorical_accuracy: 0.7721\n",
            "Epoch 17/100\n",
            "60/60 [==============================] - 0s 7ms/step - loss: 0.2645 - categorical_accuracy: 0.9922 - val_loss: 1.0487 - val_categorical_accuracy: 0.6434\n",
            "Epoch 18/100\n",
            "60/60 [==============================] - 1s 9ms/step - loss: 0.2859 - categorical_accuracy: 0.9764 - val_loss: 0.8084 - val_categorical_accuracy: 0.8076\n",
            "Epoch 19/100\n",
            "60/60 [==============================] - 1s 9ms/step - loss: 0.2183 - categorical_accuracy: 0.9915 - val_loss: 0.6136 - val_categorical_accuracy: 0.7819\n",
            "Epoch 20/100\n",
            "60/60 [==============================] - 0s 7ms/step - loss: 0.1141 - categorical_accuracy: 0.9977 - val_loss: 0.7852 - val_categorical_accuracy: 0.7708\n",
            "Epoch 21/100\n",
            "60/60 [==============================] - 0s 7ms/step - loss: 0.2663 - categorical_accuracy: 0.9769 - val_loss: 1.1518 - val_categorical_accuracy: 0.7635\n",
            "Epoch 22/100\n",
            "60/60 [==============================] - 0s 7ms/step - loss: 0.1785 - categorical_accuracy: 0.9967 - val_loss: 0.2162 - val_categorical_accuracy: 0.9779\n",
            "INFO:tensorflow:Assets written to: training/cp.ckpt/assets\n",
            "Epoch 23/100\n",
            "60/60 [==============================] - 0s 7ms/step - loss: 0.1371 - categorical_accuracy: 0.9963 - val_loss: 0.6645 - val_categorical_accuracy: 0.7292\n",
            "Epoch 24/100\n",
            "60/60 [==============================] - 0s 7ms/step - loss: 0.1184 - categorical_accuracy: 0.9932 - val_loss: 1.9083 - val_categorical_accuracy: 0.6348\n",
            "Epoch 25/100\n",
            "60/60 [==============================] - 0s 7ms/step - loss: 0.2197 - categorical_accuracy: 0.9911 - val_loss: 0.6387 - val_categorical_accuracy: 0.8431\n",
            "Epoch 26/100\n",
            "60/60 [==============================] - 0s 7ms/step - loss: 0.1652 - categorical_accuracy: 0.9959 - val_loss: 0.8733 - val_categorical_accuracy: 0.7267\n",
            "Epoch 27/100\n",
            "60/60 [==============================] - 0s 7ms/step - loss: 0.1266 - categorical_accuracy: 0.9950 - val_loss: 0.1744 - val_categorical_accuracy: 0.9939\n",
            "INFO:tensorflow:Assets written to: training/cp.ckpt/assets\n",
            "Epoch 28/100\n",
            "60/60 [==============================] - 0s 7ms/step - loss: 0.1807 - categorical_accuracy: 0.9858 - val_loss: 0.3372 - val_categorical_accuracy: 0.8922\n",
            "Epoch 29/100\n",
            "60/60 [==============================] - 0s 7ms/step - loss: 0.1244 - categorical_accuracy: 0.9976 - val_loss: 0.3810 - val_categorical_accuracy: 0.8750\n",
            "Epoch 30/100\n",
            "60/60 [==============================] - 0s 7ms/step - loss: 0.0824 - categorical_accuracy: 0.9981 - val_loss: 0.9267 - val_categorical_accuracy: 0.7402\n",
            "Epoch 31/100\n",
            "60/60 [==============================] - 0s 7ms/step - loss: 0.1721 - categorical_accuracy: 0.9819 - val_loss: 0.3852 - val_categorical_accuracy: 0.9130\n",
            "Epoch 32/100\n",
            "60/60 [==============================] - 0s 7ms/step - loss: 0.1266 - categorical_accuracy: 0.9965 - val_loss: 0.3983 - val_categorical_accuracy: 0.8946\n",
            "Epoch 33/100\n",
            "60/60 [==============================] - 0s 8ms/step - loss: 0.1237 - categorical_accuracy: 0.9906 - val_loss: 0.1810 - val_categorical_accuracy: 0.9608\n",
            "Epoch 34/100\n",
            "60/60 [==============================] - 0s 8ms/step - loss: 0.0880 - categorical_accuracy: 0.9983 - val_loss: 0.9781 - val_categorical_accuracy: 0.7022\n",
            "Epoch 35/100\n",
            "60/60 [==============================] - 0s 7ms/step - loss: 0.1386 - categorical_accuracy: 0.9825 - val_loss: 2.6253 - val_categorical_accuracy: 0.5478\n",
            "Epoch 36/100\n",
            "60/60 [==============================] - 0s 7ms/step - loss: 0.1890 - categorical_accuracy: 0.9873 - val_loss: 0.1955 - val_categorical_accuracy: 0.9730\n",
            "Epoch 37/100\n",
            "60/60 [==============================] - 0s 7ms/step - loss: 0.1267 - categorical_accuracy: 0.9978 - val_loss: 0.6417 - val_categorical_accuracy: 0.8309\n",
            "Epoch 38/100\n",
            "60/60 [==============================] - 0s 7ms/step - loss: 0.1373 - categorical_accuracy: 0.9895 - val_loss: 0.2498 - val_categorical_accuracy: 0.9718\n",
            "Epoch 39/100\n",
            "60/60 [==============================] - 0s 7ms/step - loss: 0.1677 - categorical_accuracy: 0.9894 - val_loss: 0.3576 - val_categorical_accuracy: 0.9277\n",
            "Epoch 40/100\n",
            "60/60 [==============================] - 0s 8ms/step - loss: 0.0988 - categorical_accuracy: 0.9974 - val_loss: 0.3784 - val_categorical_accuracy: 0.8836\n",
            "Epoch 41/100\n",
            "60/60 [==============================] - 1s 9ms/step - loss: 0.1955 - categorical_accuracy: 0.9818 - val_loss: 0.2309 - val_categorical_accuracy: 0.9730\n",
            "Epoch 42/100\n",
            "60/60 [==============================] - 1s 9ms/step - loss: 0.2302 - categorical_accuracy: 0.9792 - val_loss: 0.3831 - val_categorical_accuracy: 0.9301\n",
            "Epoch 43/100\n",
            "60/60 [==============================] - 0s 7ms/step - loss: 0.1462 - categorical_accuracy: 0.9980 - val_loss: 0.3768 - val_categorical_accuracy: 0.9265\n",
            "Epoch 44/100\n",
            "60/60 [==============================] - 0s 8ms/step - loss: 0.1150 - categorical_accuracy: 0.9968 - val_loss: 0.4807 - val_categorical_accuracy: 0.8738\n",
            "Epoch 45/100\n",
            "60/60 [==============================] - 0s 7ms/step - loss: 0.0943 - categorical_accuracy: 0.9993 - val_loss: 1.1562 - val_categorical_accuracy: 0.6581\n",
            "Epoch 46/100\n",
            "60/60 [==============================] - 0s 7ms/step - loss: 0.0742 - categorical_accuracy: 0.9979 - val_loss: 0.2618 - val_categorical_accuracy: 0.9449\n",
            "Epoch 47/100\n",
            "60/60 [==============================] - 0s 7ms/step - loss: 0.1058 - categorical_accuracy: 0.9887 - val_loss: 0.4266 - val_categorical_accuracy: 0.8824\n",
            "Epoch 48/100\n",
            "60/60 [==============================] - 0s 7ms/step - loss: 0.1208 - categorical_accuracy: 0.9941 - val_loss: 0.1269 - val_categorical_accuracy: 0.9865\n",
            "INFO:tensorflow:Assets written to: training/cp.ckpt/assets\n",
            "Epoch 49/100\n",
            "60/60 [==============================] - 0s 7ms/step - loss: 0.0851 - categorical_accuracy: 0.9992 - val_loss: 0.5502 - val_categorical_accuracy: 0.8627\n",
            "Epoch 50/100\n",
            "60/60 [==============================] - 0s 8ms/step - loss: 0.0783 - categorical_accuracy: 0.9958 - val_loss: 0.4371 - val_categorical_accuracy: 0.8836\n",
            "Epoch 51/100\n",
            "60/60 [==============================] - 0s 7ms/step - loss: 0.1548 - categorical_accuracy: 0.9835 - val_loss: 0.2274 - val_categorical_accuracy: 0.9510\n",
            "Epoch 52/100\n",
            "60/60 [==============================] - 0s 7ms/step - loss: 0.1224 - categorical_accuracy: 0.9934 - val_loss: 0.4542 - val_categorical_accuracy: 0.8689\n",
            "Epoch 53/100\n",
            "60/60 [==============================] - 0s 7ms/step - loss: 0.0792 - categorical_accuracy: 1.0000 - val_loss: 0.5103 - val_categorical_accuracy: 0.8395\n",
            "Epoch 54/100\n",
            "60/60 [==============================] - 0s 8ms/step - loss: 0.0662 - categorical_accuracy: 0.9991 - val_loss: 0.2505 - val_categorical_accuracy: 0.9326\n",
            "Epoch 55/100\n",
            "60/60 [==============================] - 0s 7ms/step - loss: 0.0522 - categorical_accuracy: 0.9996 - val_loss: 0.7306 - val_categorical_accuracy: 0.7892\n",
            "Epoch 56/100\n",
            "60/60 [==============================] - 0s 7ms/step - loss: 0.0519 - categorical_accuracy: 0.9984 - val_loss: 0.6588 - val_categorical_accuracy: 0.7855\n",
            "Epoch 57/100\n",
            "60/60 [==============================] - 0s 7ms/step - loss: 0.0786 - categorical_accuracy: 0.9924 - val_loss: 0.4980 - val_categorical_accuracy: 0.9277\n",
            "Epoch 58/100\n",
            "60/60 [==============================] - 0s 7ms/step - loss: 0.1952 - categorical_accuracy: 0.9691 - val_loss: 0.1510 - val_categorical_accuracy: 0.9841\n",
            "Epoch 59/100\n",
            "60/60 [==============================] - 0s 8ms/step - loss: 0.0945 - categorical_accuracy: 0.9973 - val_loss: 0.1451 - val_categorical_accuracy: 0.9657\n",
            "Epoch 60/100\n",
            "60/60 [==============================] - 1s 9ms/step - loss: 0.0733 - categorical_accuracy: 0.9989 - val_loss: 0.1364 - val_categorical_accuracy: 0.9779\n",
            "Epoch 61/100\n",
            "60/60 [==============================] - 1s 8ms/step - loss: 0.0625 - categorical_accuracy: 0.9981 - val_loss: 0.2990 - val_categorical_accuracy: 0.9400\n",
            "Epoch 62/100\n",
            "60/60 [==============================] - 0s 8ms/step - loss: 0.1277 - categorical_accuracy: 0.9817 - val_loss: 0.1580 - val_categorical_accuracy: 0.9779\n",
            "Epoch 63/100\n",
            "60/60 [==============================] - 0s 8ms/step - loss: 0.0701 - categorical_accuracy: 0.9983 - val_loss: 0.2489 - val_categorical_accuracy: 0.9510\n",
            "Epoch 64/100\n",
            "60/60 [==============================] - 0s 7ms/step - loss: 0.0580 - categorical_accuracy: 0.9983 - val_loss: 0.3392 - val_categorical_accuracy: 0.9179\n",
            "Epoch 65/100\n",
            "60/60 [==============================] - 0s 7ms/step - loss: 0.0654 - categorical_accuracy: 0.9952 - val_loss: 0.1300 - val_categorical_accuracy: 0.9792\n",
            "Epoch 66/100\n",
            "60/60 [==============================] - 1s 9ms/step - loss: 0.0582 - categorical_accuracy: 0.9984 - val_loss: 0.1084 - val_categorical_accuracy: 0.9792\n",
            "INFO:tensorflow:Assets written to: training/cp.ckpt/assets\n",
            "Epoch 67/100\n",
            "60/60 [==============================] - 0s 8ms/step - loss: 0.0504 - categorical_accuracy: 0.9982 - val_loss: 0.1636 - val_categorical_accuracy: 0.9743\n",
            "Epoch 68/100\n",
            "60/60 [==============================] - 0s 8ms/step - loss: 0.0444 - categorical_accuracy: 0.9993 - val_loss: 0.1624 - val_categorical_accuracy: 0.9730\n",
            "Epoch 69/100\n",
            "60/60 [==============================] - 1s 9ms/step - loss: 0.0400 - categorical_accuracy: 0.9998 - val_loss: 0.2196 - val_categorical_accuracy: 0.9534\n",
            "Epoch 70/100\n",
            "60/60 [==============================] - 1s 9ms/step - loss: 0.0334 - categorical_accuracy: 0.9995 - val_loss: 0.1742 - val_categorical_accuracy: 0.9669\n",
            "Epoch 71/100\n",
            "60/60 [==============================] - 1s 9ms/step - loss: 0.0313 - categorical_accuracy: 0.9993 - val_loss: 0.5539 - val_categorical_accuracy: 0.7855\n",
            "Epoch 72/100\n",
            "60/60 [==============================] - 0s 8ms/step - loss: 0.0488 - categorical_accuracy: 0.9968 - val_loss: 0.0599 - val_categorical_accuracy: 0.9963\n",
            "INFO:tensorflow:Assets written to: training/cp.ckpt/assets\n",
            "Epoch 73/100\n",
            "60/60 [==============================] - 0s 7ms/step - loss: 0.0418 - categorical_accuracy: 0.9989 - val_loss: 0.1020 - val_categorical_accuracy: 0.9779\n",
            "Epoch 74/100\n",
            "60/60 [==============================] - 0s 7ms/step - loss: 0.0318 - categorical_accuracy: 0.9998 - val_loss: 0.1418 - val_categorical_accuracy: 0.9657\n",
            "Epoch 75/100\n",
            "60/60 [==============================] - 0s 7ms/step - loss: 0.0755 - categorical_accuracy: 0.9881 - val_loss: 0.3229 - val_categorical_accuracy: 0.9118\n",
            "Epoch 76/100\n",
            "60/60 [==============================] - 0s 7ms/step - loss: 0.1052 - categorical_accuracy: 0.9869 - val_loss: 0.0779 - val_categorical_accuracy: 0.9951\n",
            "Epoch 77/100\n",
            "60/60 [==============================] - 0s 7ms/step - loss: 0.0619 - categorical_accuracy: 0.9987 - val_loss: 0.0722 - val_categorical_accuracy: 0.9914\n",
            "Epoch 78/100\n",
            "60/60 [==============================] - 0s 8ms/step - loss: 0.0531 - categorical_accuracy: 0.9979 - val_loss: 0.0784 - val_categorical_accuracy: 0.9890\n",
            "Epoch 79/100\n",
            "60/60 [==============================] - 0s 8ms/step - loss: 0.0408 - categorical_accuracy: 1.0000 - val_loss: 0.1460 - val_categorical_accuracy: 0.9522\n",
            "Epoch 80/100\n",
            "60/60 [==============================] - 0s 7ms/step - loss: 0.0358 - categorical_accuracy: 0.9989 - val_loss: 0.0882 - val_categorical_accuracy: 0.9779\n",
            "Epoch 81/100\n",
            "60/60 [==============================] - 0s 7ms/step - loss: 0.0374 - categorical_accuracy: 0.9994 - val_loss: 0.1546 - val_categorical_accuracy: 0.9498\n",
            "Epoch 82/100\n",
            "60/60 [==============================] - 0s 8ms/step - loss: 0.0397 - categorical_accuracy: 0.9987 - val_loss: 1.1663 - val_categorical_accuracy: 0.7353\n",
            "Epoch 83/100\n",
            "60/60 [==============================] - 0s 7ms/step - loss: 0.0507 - categorical_accuracy: 0.9998 - val_loss: 0.1392 - val_categorical_accuracy: 0.9657\n",
            "Epoch 84/100\n",
            "60/60 [==============================] - 0s 8ms/step - loss: 0.0442 - categorical_accuracy: 0.9988 - val_loss: 0.0587 - val_categorical_accuracy: 0.9926\n",
            "INFO:tensorflow:Assets written to: training/cp.ckpt/assets\n",
            "Epoch 85/100\n",
            "60/60 [==============================] - 0s 7ms/step - loss: 0.0608 - categorical_accuracy: 0.9930 - val_loss: 0.1075 - val_categorical_accuracy: 0.9730\n",
            "Epoch 86/100\n",
            "60/60 [==============================] - 0s 7ms/step - loss: 0.0594 - categorical_accuracy: 0.9955 - val_loss: 0.4150 - val_categorical_accuracy: 0.9142\n",
            "Epoch 87/100\n",
            "60/60 [==============================] - 0s 7ms/step - loss: 0.0532 - categorical_accuracy: 0.9984 - val_loss: 0.1619 - val_categorical_accuracy: 0.9620\n",
            "Epoch 88/100\n",
            "60/60 [==============================] - 0s 8ms/step - loss: 0.0404 - categorical_accuracy: 0.9995 - val_loss: 0.1265 - val_categorical_accuracy: 0.9767\n",
            "Epoch 89/100\n",
            "60/60 [==============================] - 0s 7ms/step - loss: 0.0379 - categorical_accuracy: 0.9986 - val_loss: 0.0524 - val_categorical_accuracy: 0.9939\n",
            "INFO:tensorflow:Assets written to: training/cp.ckpt/assets\n",
            "Epoch 90/100\n",
            "60/60 [==============================] - 0s 7ms/step - loss: 0.0327 - categorical_accuracy: 0.9996 - val_loss: 0.0872 - val_categorical_accuracy: 0.9816\n",
            "Epoch 91/100\n",
            "60/60 [==============================] - 0s 8ms/step - loss: 0.0875 - categorical_accuracy: 0.9849 - val_loss: 0.7164 - val_categorical_accuracy: 0.8456\n",
            "Epoch 92/100\n",
            "60/60 [==============================] - 0s 8ms/step - loss: 0.0765 - categorical_accuracy: 0.9959 - val_loss: 0.9003 - val_categorical_accuracy: 0.7721\n",
            "Epoch 93/100\n",
            "60/60 [==============================] - 1s 9ms/step - loss: 0.0712 - categorical_accuracy: 0.9942 - val_loss: 0.1394 - val_categorical_accuracy: 0.9743\n",
            "Epoch 94/100\n",
            "60/60 [==============================] - 0s 8ms/step - loss: 0.0502 - categorical_accuracy: 0.9990 - val_loss: 0.3290 - val_categorical_accuracy: 0.9142\n",
            "Epoch 95/100\n",
            "60/60 [==============================] - 1s 9ms/step - loss: 0.0418 - categorical_accuracy: 0.9995 - val_loss: 0.0848 - val_categorical_accuracy: 0.9865\n",
            "Epoch 96/100\n",
            "60/60 [==============================] - 0s 8ms/step - loss: 0.0385 - categorical_accuracy: 0.9986 - val_loss: 0.2198 - val_categorical_accuracy: 0.9387\n",
            "Epoch 97/100\n",
            "60/60 [==============================] - 1s 9ms/step - loss: 0.0392 - categorical_accuracy: 0.9972 - val_loss: 0.1568 - val_categorical_accuracy: 0.9461\n",
            "Epoch 98/100\n",
            "60/60 [==============================] - 0s 8ms/step - loss: 0.0792 - categorical_accuracy: 0.9886 - val_loss: 0.0566 - val_categorical_accuracy: 1.0000\n",
            "Epoch 99/100\n",
            "60/60 [==============================] - 0s 8ms/step - loss: 0.0552 - categorical_accuracy: 0.9988 - val_loss: 0.0824 - val_categorical_accuracy: 0.9877\n",
            "Epoch 100/100\n",
            "60/60 [==============================] - 0s 7ms/step - loss: 0.0436 - categorical_accuracy: 0.9997 - val_loss: 0.1004 - val_categorical_accuracy: 0.9792\n",
            "26/26 [==============================] - 0s 6ms/step - loss: 0.0544 - categorical_accuracy: 0.9902\n",
            "Test accuracy 0.9901960492134094\n",
            "Test loss 0.05443806201219559\n"
          ],
          "name": "stdout"
        }
      ]
    },
    {
      "cell_type": "markdown",
      "metadata": {
        "id": "qtJMzI2oHZdO"
      },
      "source": [
        "## **Plot the Metrics**\r\n",
        "\r\n",
        "Visualisation of the training metrics are one of the only ways we can as practitioners understand what is going on during training!\r\n",
        "\r\n",
        "This in my opinion is the key tuning tool for improving our networks!\r\n",
        "\r\n",
        "If you don't do this in your own work, I highly recommend you do :)\r\n",
        "\r\n",
        "If you wish to encorporate tensorboard check out this [tutorial](https://keras.io/api/callbacks/tensorboard/)"
      ]
    },
    {
      "cell_type": "code",
      "metadata": {
        "id": "ufa0a_r3HWs0",
        "colab": {
          "base_uri": "https://localhost:8080/",
          "height": 298
        },
        "outputId": "2adb79d2-8963-4d21-8c5d-7f91bcc3f315"
      },
      "source": [
        "metric = \"categorical_accuracy\"\n",
        "plt.figure()\n",
        "plt.plot(history.history[metric])\n",
        "plt.plot(history.history[\"val_\" + metric])\n",
        "plt.title(\"model \" + metric)\n",
        "plt.ylabel(metric, fontsize=\"large\")\n",
        "plt.xlabel(\"epoch\", fontsize=\"large\")\n",
        "plt.legend([\"train\", \"val\"], loc=\"best\")\n",
        "plt.show()\n",
        "plt.close()"
      ],
      "execution_count": 13,
      "outputs": [
        {
          "output_type": "display_data",
          "data": {
            "image/png": "[encoded data removed]",
            "text/plain": [
              "<Figure size 432x288 with 1 Axes>"
            ]
          },
          "metadata": {
            "tags": [],
            "needs_background": "light"
          }
        }
      ]
    },
    {
      "cell_type": "code",
      "metadata": {
        "id": "VPWbtEO9H1Ly",
        "colab": {
          "base_uri": "https://localhost:8080/",
          "height": 298
        },
        "outputId": "53602444-a0d9-4852-e478-8e7ea0ab654a"
      },
      "source": [
        "metric = \"loss\"\n",
        "plt.figure()\n",
        "plt.plot(history.history[metric])\n",
        "plt.plot(history.history[\"val_\" + metric])\n",
        "plt.title(\"model \" + metric)\n",
        "plt.ylabel(metric, fontsize=\"large\")\n",
        "plt.xlabel(\"epoch\", fontsize=\"large\")\n",
        "plt.legend([\"train\", \"val\"], loc=\"best\")\n",
        "plt.show()\n",
        "plt.close()"
      ],
      "execution_count": 14,
      "outputs": [
        {
          "output_type": "display_data",
          "data": {
            "image/png": "[encoded data removed]",
            "text/plain": [
              "<Figure size 432x288 with 1 Axes>"
            ]
          },
          "metadata": {
            "tags": [],
            "needs_background": "light"
          }
        }
      ]
    },
    {
      "cell_type": "markdown",
      "metadata": {
        "id": "GYWBfvzd8MRX"
      },
      "source": [
        "## **Visualise the Representations**\r\n",
        "\r\n",
        "Now we have finished training our model, it is nice to see how our model represented the scenarios in representation space! We hope to see clusters of representations belonging to the same scenario.\r\n",
        "\r\n",
        "So during testing (evaluation loop) we saved the output of our model that we feed to our classification layer.\r\n",
        "\r\n",
        "To visualise this high-dimensional vector we employ [t-SNE](https://jmlr.org/papers/volume9/vandermaaten08a/vandermaaten08a.pdf) a unsupervised dimensionality reduction method!\r\n",
        "\r\n",
        "Once in a more manageable dimension (2 dimensions (x,y)) we will plot the representations with their corresponding true label.\r\n",
        "\r\n",
        "Your task is to simply perform the t-SNE visualisation, and you can use a pre-built package.\r\n",
        "\r\n",
        "[t-SNE scikitlearn Documentation](https://scikit-learn.org/stable/modules/generated/sklearn.manifold.TSNE.html)"
      ]
    },
    {
      "cell_type": "code",
      "metadata": {
        "id": "-2Oryg979Amc",
        "colab": {
          "base_uri": "https://localhost:8080/",
          "height": 592
        },
        "outputId": "52551724-ab4e-48bb-d595-aa1ea23eacd4"
      },
      "source": [
        "features = output_rep\n",
        "targets = Test_Y\n",
        "\n",
        "# One Hot encodings back to categorical labels.\n",
        "targets = np.argmax(targets, axis=1)\n",
        "\n",
        "# Perform t-SNE dimensionality reduction\n",
        "tsne = TSNE(n_components=2).fit_transform(features)\n",
        "\n",
        "# extract x and y coordinates representing the positions of the images on T-SNE plot\n",
        "tx = tsne[:, 0]\n",
        "ty = tsne[:, 1]\n",
        "\n",
        "# scale and move the 'x' coordinates so they fit [0; 1] range\n",
        "tx_range = (np.max(tx) - np.min(tx))\n",
        "tx_from_zero = tx - np.min(tx)\n",
        "tx = tx_from_zero / tx_range\n",
        "\n",
        "# scale and move the 'y' coordinates so they fit [0; 1] range\n",
        "ty_range = (np.max(ty) - np.min(ty))\n",
        "ty_from_zero = ty - np.min(ty)\n",
        "ty = ty_from_zero / ty_range\n",
        "\n",
        "# Here is where we are going to plot our t-SNE visualisation\n",
        "# we need to provide tx and ty above!\n",
        "\n",
        "# Name the scenario numbers\n",
        "label_names = ['Sc1','Sc2','Sc3','Sc4','Sc5','Sc6','Sc7','Sc8']\n",
        "label_ids = range(len(label_names))\n",
        "\n",
        "# Define the figure size\n",
        "plt.figure(figsize=(12, 10))\n",
        "\n",
        "# Define the colours of the classes/scenarios\n",
        "colors = 'r', 'g', 'b', 'c', 'm', 'y', 'k', 'grey'\n",
        "\n",
        "# For each scenario plot the corresponding embeddings in their chosen colours\n",
        "# tx and ty are output for t-SNE in 2-dimensions (x,y).\n",
        "for i, c, label in zip(label_ids, colors, label_names):\n",
        "  plt.scatter(tx[targets == i], ty[targets == i], c=c, label=label)\n",
        "\n",
        "# Show the figure  \n",
        "plt.legend()\n",
        "plt.show()"
      ],
      "execution_count": 15,
      "outputs": [
        {
          "output_type": "display_data",
          "data": {
            "image/png": "[encoded data removed]",
            "text/plain": [
              "<Figure size 864x720 with 1 Axes>"
            ]
          },
          "metadata": {
            "tags": [],
            "needs_background": "light"
          }
        }
      ]
    },
    {
      "cell_type": "markdown",
      "metadata": {
        "id": "1JrlmQAe9Cd6"
      },
      "source": [
        "## **That's all**\r\n",
        "\r\n",
        "So today's practical session has asked you to process a real-world time series signal from a unique application domain. You have had to process with regard to domain expert knowledge, and also build a classifer to predict the anomaly type given neutron detector readings.\r\n",
        "\r\n",
        "If you're interested in this application domain check out some other works:\r\n",
        "- https://aura.abdn.ac.uk/bitstream/handle/2164/14170/Durrant_EPJN_3DConvolutional_VoR.pdf?sequence=1 \r\n",
        "- https://www.epj-conferences.org/articles/epjconf/pdf/2021/01/epjconf_physor2020_21004.pdf \r\n",
        "- https://aidendurrant.github.io/Resources/MC2021_ADurrant_Preprint.pdf \r\n",
        "\r\n",
        "And if you still have time or want to work on this in your own time try out the bonus tasks listed at the top of this notebook :)\r\n",
        "\r\n",
        "I hope you enjoyed this hands on practical!\r\n",
        "\r\n",
        "\\- Aiden\r\n",
        "\r\n",
        "### **References:**\r\n",
        "Today's practical was inspired by this [work](\r\n",
        "https://aura.abdn.ac.uk/bitstream/handle/2164/14170/Durrant_EPJN_3DConvolutional_VoR.pdf?sequence=1)\\\r\n",
        "And the keras code was based on:\r\n",
        "https://keras.io/examples/timeseries/timeseries_classification_from_scratch/  "
      ]
    }
  ]
}