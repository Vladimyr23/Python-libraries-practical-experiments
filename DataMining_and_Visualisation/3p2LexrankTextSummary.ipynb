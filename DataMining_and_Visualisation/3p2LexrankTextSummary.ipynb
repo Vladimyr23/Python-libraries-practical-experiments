{
  "nbformat": 4,
  "nbformat_minor": 0,
  "metadata": {
    "colab": {
      "name": "lexrank-test.ipynb",
      "provenance": []
    },
    "kernelspec": {
      "display_name": "Python 3",
      "language": "python",
      "name": "python3"
    },
    "language_info": {
      "codemirror_mode": {
        "name": "ipython",
        "version": 3
      },
      "file_extension": ".py",
      "mimetype": "text/x-python",
      "name": "python",
      "nbconvert_exporter": "python",
      "pygments_lexer": "ipython3",
      "version": "3.7.3"
    }
  },
  "cells": [
    {
      "cell_type": "markdown",
      "metadata": {
        "id": "CBBgWk-zCyR3"
      },
      "source": [
        "CS551g Data Mining and Visualisation  <br>\n",
        "Practical 3 - Summarisation with Lexrank <br>"
      ]
    },
    {
      "cell_type": "markdown",
      "metadata": {
        "id": "JzIWJS_qGVRJ"
      },
      "source": [
        "LexRank is an unsupervised approach to text summarization based on graph-based centrality\n",
        "scoring of sentences. The main idea is that sentences \"recommend\" other similar sentences\n",
        "to the reader. Thus, if one sentence is very similar to many others, it will likely be a sentence\n",
        "of great importance. The importance of this sentence also stems from the importance of the\n",
        "sentences \"recommending\" it. Thus, to get ranked highly and placed in a summary, a\n",
        "sentence must be similar to many sentences that are in turn also similar to many other\n",
        "sentences. This makes intuitive sense and allows the algorithms to be applied to any\n",
        "arbitrary new text.\n",
        "\n",
        "More info https://github.com/crabcamp/lexrank."
      ]
    },
    {
      "cell_type": "markdown",
      "metadata": {
        "id": "wolWQwjYDZDn"
      },
      "source": [
        "**Step 1: Install lexrank**"
      ]
    },
    {
      "cell_type": "code",
      "metadata": {
        "id": "GyvMQIUstyI9"
      },
      "source": [
        "pip install lexrank"
      ],
      "execution_count": null,
      "outputs": []
    },
    {
      "cell_type": "markdown",
      "metadata": {
        "id": "iyeXfoNHDXlZ"
      },
      "source": [
        "**STEP 2: Upload Data**<br>\n",
        "Upload the txt documents found in docs(Part2).zip. The docs folder contains 12 documents, organized into 4 clusters of 3 documents(doc1-\n",
        "2.txt refers to document #2 in cluster #1). Each document is a news article on the topic of\n",
        "Angelina Jolie's preventative cancer treatment in recent years. Each cluster consists of 3\n",
        "articles, one from the _Daily Mail_,another from _Mirror_, and the last from the _Belfast\n",
        "Telegraph_ (except for cluster #1, where the last is from _New York Daily News_), each\n",
        "published around the same time with the same subject matter."
      ]
    },
    {
      "cell_type": "code",
      "metadata": {
        "id": "UNLVU5CJuXZH"
      },
      "source": [
        "from lexrank.algorithms.summarizer import LexRank \n",
        "from lexrank.mappings.stopwords import STOPWORDS\n",
        "from path import Path\n",
        "\n",
        "documents = []\n",
        "documents_dir = Path('./')\n",
        "\n",
        "for file_path in documents_dir.files('*.txt'):\n",
        "    with file_path.open(mode='rt', encoding='utf-8') as fp:\n",
        "        documents.append(fp.readlines())\n",
        "\n",
        "lxr = LexRank(documents, stopwords=STOPWORDS['en'])\n",
        "\n"
      ],
      "execution_count": 3,
      "outputs": []
    },
    {
      "cell_type": "markdown",
      "metadata": {
        "id": "u4tts-3eG0bk"
      },
      "source": [
        "**STEP 3:Run the code and inspect the results**"
      ]
    },
    {
      "cell_type": "code",
      "metadata": {
        "id": "FoQvAcf_vmq_"
      },
      "source": [
        "sentences = [\n",
        "    \"Angelina Jolie's openness about breast cancer has inspired growing numbers of British women to have the same lifesaving operation.\",\n",
        "\n",
        "\"The Tomb Raider star made headlines around the world when, in May 2013, she announced she had both breasts removed to prevent her developing cancer.\",\n",
        "\n",
        "\"She took the radical action after discovering she carried faulty DNA that gave her an 87 per cent chance of developing breast cancer - eight times the chance for an average woman.\",\n",
        "\n",
        "\"With the flawed BRCA1 gene also greatly increasing her the odds of ovarian cancer, she had a second round of major surgery in which her ovaries and Fallopian tubes removed.\",\n",
        "\n",
        "\"Her frankness about the surgery is believed to have raised awareness of the procedures and removed some of the fear that surrounds them.\",\n",
        "\n",
        "\"Referrals for genetic counselling and testing more than doubled after she spoke out and, as a result, more women are choosing to have both breasts removed to prevent the disease and potentially save their lives.\",\n",
        "\n",
        "\"Figures from a leading clinic in Manchester show 83 double mastectomies were carried out in the 18 months from January 2014 - almost treble the figure for the previous year and a half.\",\n",
        "\n",
        "\"Many of these women carried the same gene as Miss Jolie, the journal Breast Cancer Research reports.\",\n",
        "\n",
        "\"Doctors at the Genesis Breast Cancer Prevention Centre say the rise is likely due to the 'Angelina effect'.\",\n",
        "\n",
        "\"Singer Kylie Minogue's breast cancer diagnosis and reality TV star Jade Goody's battle with cervical cancer both led to increased awareness.\",\n",
        "\n",
        "\"But the 'Angelina effect' is thought to be bigger and longer-lasting.\",\n",
        "\n",
        "\"The Manchester researchers said that her 'glamorous image' and marriage to Brad Pitt may have lessened patients' fears about the surgery and its effect on their sexuality.\",\n",
        "\n",
        "\"Lester Barr, chairman of Genesis Breast Cancer Prevention, said: 'Scheduling a preventative double mastectomy is not an easy decision to make, but it's encouraging to know that many of these women will have drawn comfort from by the fact that such a high-profile star had undergone the surgery.\",\n",
        "\n",
        "\"Breast Cancer Now said that GPs are referring women appropriately, rather than simply sending on the 'worried well'\",\n",
        "\n",
        "\"Yinka Ebo, the charity's health information manager, said: 'The challenge now is to ensure that genetic testing services can cope with the increased demand and that women and GPs have access to the information they need.'\",\n",
        "    ]\n",
        "\n",
        "# get summary with classical LexRank algorithm\n",
        "summary = lxr.get_summary(sentences, summary_size=2, threshold=.1)\n",
        "print(summary)\n",
        "\n",
        "\n",
        "# get summary with continuous LexRank\n",
        "summary_cont = lxr.get_summary(sentences, threshold=None)\n",
        "print(summary_cont)\n",
        "\n",
        "\n",
        "\n",
        "# get LexRank scores for sentences\n",
        "# 'fast_power_method' speeds up the calculation, but requires more RAM\n",
        "scores_cont = lxr.rank_sentences(\n",
        "    sentences,\n",
        "    threshold=None,\n",
        "    fast_power_method=False,\n",
        ")\n",
        "print(scores_cont)\n",
        "\n"
      ],
      "execution_count": null,
      "outputs": []
    }
  ]
}