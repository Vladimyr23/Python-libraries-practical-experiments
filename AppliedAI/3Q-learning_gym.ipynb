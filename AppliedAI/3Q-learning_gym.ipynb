{
 "cells": [
  {
   "cell_type": "markdown",
   "metadata": {},
   "source": [
    "# University of Aberdeen\n",
    "\n",
    "## Applied AI (CS5079)\n",
    "\n",
    "### Lecture (Day 3) - Reinforcement Learning with OpenAI Gym\n",
    "\n",
    "---\n",
    "\n",
    "In the lecture, we introduce multiple reinforcement learning algorithms and test them on OpenAI Gym environments.\n",
    "\n",
    "You can import OpenAI Gym by using the following code:"
   ]
  },
  {
   "cell_type": "code",
   "execution_count": 1,
   "metadata": {},
   "outputs": [],
   "source": [
    "import gym"
   ]
  },
  {
   "cell_type": "markdown",
   "metadata": {},
   "source": [
    "Because we use Codio, OpenAI Gym will not render graphical environments. We will only use the terminal `FrozenLakeNoSlip-v0` environment."
   ]
  },
  {
   "cell_type": "code",
   "execution_count": 2,
   "metadata": {},
   "outputs": [],
   "source": [
    "#We create and register our custom frozen lake environment\n",
    "from gym.envs.registration import register\n",
    "from gym.envs.toy_text.frozen_lake import generate_random_map\n",
    "\n",
    "try:\n",
    "    register(\n",
    "        id='FrozenLakeNoSlip-v0',\n",
    "        entry_point='gym.envs.toy_text:FrozenLakeEnv',\n",
    "        kwargs={'map_name' : '4x4', 'is_slippery':False},\n",
    "        max_episode_steps=100,\n",
    "        reward_threshold=0.78, # optimum = .8196\n",
    "    )\n",
    "except:\n",
    "    pass\n",
    "\n",
    "#env_name = \"FrozenLake-v0\"\n",
    "env_name = \"FrozenLakeNoSlip-v0\"\n",
    "env = gym.make(env_name)"
   ]
  },
  {
   "cell_type": "markdown",
   "metadata": {},
   "source": [
    "We will also use the following librairies:"
   ]
  },
  {
   "cell_type": "code",
   "execution_count": 3,
   "metadata": {},
   "outputs": [],
   "source": [
    "#Librairies to represent the output\n",
    "from IPython.display import clear_output\n",
    "import time\n",
    "import matplotlib.pyplot as plt\n",
    "\n",
    "#Essential libraries for computation\n",
    "import numpy as np\n",
    "import random\n",
    "import tensorflow.compat.v1 as tf\n",
    "from collections import deque"
   ]
  },
  {
   "cell_type": "markdown",
   "metadata": {},
   "source": [
    "## Environments\n",
    "\n",
    "__Environments__ are test problems, offered by OpenAI Gym, for you to test reinforcement learning algorithms. "
   ]
  },
  {
   "cell_type": "code",
   "execution_count": 4,
   "metadata": {},
   "outputs": [
    {
     "name": "stdout",
     "output_type": "stream",
     "text": [
      "Observation space: Discrete(16)\n",
      "Action space: Discrete(4)\n"
     ]
    }
   ],
   "source": [
    "#We can print the observation and action space\n",
    "print(\"Observation space:\", env.observation_space)\n",
    "print(\"Action space:\", env.action_space)"
   ]
  },
  {
   "cell_type": "markdown",
   "metadata": {},
   "source": [
    "The following code will pick and perform 100 actions at random. The environment is restarted each time the agent fallas into a hole"
   ]
  },
  {
   "cell_type": "code",
   "execution_count": 5,
   "metadata": {},
   "outputs": [],
   "source": [
    "done = True\n",
    "for _ in range(100):\n",
    "    if done:\n",
    "        current_obs = env.reset()\n",
    "    next_obs, reward, done, info = env.step(env.action_space.sample()) # take a random action\n",
    "    env.render()\n",
    "    time.sleep(0.01)\n",
    "    clear_output()\n",
    "env.close()"
   ]
  },
  {
   "cell_type": "markdown",
   "metadata": {},
   "source": [
    "## Agents & Q-table\n",
    "\n",
    "The previous code does not create any agents. In the following cell, we will create an agent class able to learn using a Q-table."
   ]
  },
  {
   "cell_type": "code",
   "execution_count": 6,
   "metadata": {},
   "outputs": [],
   "source": [
    "class QAgent():\n",
    "    def __init__(self, env, discount_rate=0.97, learning_rate=1):\n",
    "        self.obs_size = env.observation_space.n\n",
    "        self.action_size = env.action_space.n        \n",
    "        self.eps = 1.0\n",
    "        self.discount_rate = discount_rate\n",
    "        self.learning_rate = learning_rate\n",
    "        self.q_table = 1e-4*np.random.random([self.obs_size, self.action_size])\n",
    "\n",
    "    #This will enable our agent to pick an action w.r.t. a given observation\n",
    "    def get_action(self, current_obs):\n",
    "        q_obs = self.q_table[current_obs]\n",
    "        action_exploit = np.argmax(q_obs)\n",
    "        action_random = random.choice(range(self.action_size))\n",
    "        return action_random if random.random() < self.eps else action_exploit\n",
    "\n",
    "    def train(self, experience):\n",
    "        current_obs, action, next_obs, reward, done = experience\n",
    "        q_next = self.q_table[next_obs]\n",
    "        q_next = np.zeros([self.action_size]) if done else q_next\n",
    "        q_target = reward + self.discount_rate * np.max(q_next)\n",
    "        q_update = q_target - self.q_table[current_obs,action]\n",
    "        self.q_table[current_obs,action] += self.learning_rate * q_update\n",
    "\n",
    "        if done:\n",
    "            self.eps = self.eps * 0.99"
   ]
  },
  {
   "cell_type": "code",
   "execution_count": 7,
   "metadata": {},
   "outputs": [
    {
     "name": "stdout",
     "output_type": "stream",
     "text": [
      "Episode: 499, Total reward: 386.0, eps: 0.006570483042414605\n",
      "  (Right)\n",
      "SFFF\n",
      "FHFH\n",
      "FFFH\n",
      "HFF\u001b[41mG\u001b[0m\n",
      "[[8.32972005e-01 8.58734026e-01 8.58734026e-01 8.32972005e-01]\n",
      " [8.32972005e-01 0.00000000e+00 8.85292810e-01 8.58734026e-01]\n",
      " [7.02732364e-05 9.12673000e-01 8.58734026e-01 8.85292810e-01]\n",
      " [8.85292810e-01 0.00000000e+00 7.46872530e-05 7.69971681e-05]\n",
      " [8.58734026e-01 8.85292810e-01 0.00000000e+00 8.32972005e-01]\n",
      " [6.23486646e-05 5.98728510e-05 8.68269289e-05 1.54051696e-05]\n",
      " [0.00000000e+00 9.40900000e-01 0.00000000e+00 7.24466354e-05]\n",
      " [9.95782849e-05 9.07890670e-06 7.01195210e-05 3.81321609e-05]\n",
      " [8.85292810e-01 0.00000000e+00 9.12673000e-01 8.58734026e-01]\n",
      " [8.85292810e-01 9.40900000e-01 9.40900000e-01 0.00000000e+00]\n",
      " [9.12673000e-01 9.70000000e-01 0.00000000e+00 9.12673000e-01]\n",
      " [2.65909844e-05 6.61706103e-05 4.12961656e-05 9.38452132e-05]\n",
      " [1.05953016e-05 6.96394003e-05 7.75882777e-05 6.40629939e-05]\n",
      " [0.00000000e+00 9.40900000e-01 9.70000000e-01 9.12673000e-01]\n",
      " [9.40900000e-01 9.70000000e-01 1.00000000e+00 9.40900000e-01]\n",
      " [1.71181409e-05 9.90510613e-05 2.32337438e-05 1.04298913e-05]]\n"
     ]
    }
   ],
   "source": [
    "agent = QAgent(env)\n",
    "total_reward = 0\n",
    "list_rewards=[]\n",
    "for ep in range(500):\n",
    "    current_obs = env.reset()\n",
    "    done = False\n",
    "    list_rewards.append(total_reward)\n",
    "    while not done:\n",
    "        action = agent.get_action(current_obs)\n",
    "        next_obs, reward, done, info = env.step(action)\n",
    "        agent.train((current_obs,action,next_obs,reward,done))\n",
    "        current_obs = next_obs\n",
    "        total_reward += reward\n",
    "        print(\"Episode: {}, Total reward: {}, eps: {}\".format(ep,total_reward,agent.eps))\n",
    "        env.render()\n",
    "        print(agent.q_table)\n",
    "        time.sleep(0.01)\n",
    "        clear_output(wait=True)\n",
    "        "
   ]
  },
  {
   "cell_type": "code",
   "execution_count": 8,
   "metadata": {},
   "outputs": [
    {
     "data": {
      "text/plain": [
       "<function matplotlib.pyplot.show>"
      ]
     },
     "execution_count": 8,
     "metadata": {},
     "output_type": "execute_result"
    },
    {
     "data": {
      "image/png": "[encoded data removed]",
      "text/plain": [
       "<Figure size 432x288 with 1 Axes>"
      ]
     },
     "metadata": {
      "needs_background": "light"
     },
     "output_type": "display_data"
    }
   ],
   "source": [
    "plt.plot(range(500), list_rewards)\n",
    "plt.xlabel('Episodes')\n",
    "plt.ylabel('Total rewards')\n",
    "plt.show"
   ]
  },
  {
   "cell_type": "markdown",
   "metadata": {},
   "source": [
    "## Q-Learning with neural networks\n",
    "\n",
    "In the following section, we show how to convert the Q-table into a dense layer."
   ]
  },
  {
   "cell_type": "code",
   "execution_count": null,
   "metadata": {},
   "outputs": [],
   "source": [
    "class QNNAgent():\n",
    "    def __init__(self, env, discount_rate = 0.95, learning_rate = 0.01):\n",
    "        self.observation_size = env.observation_space.n\n",
    "        self.action_size = env.action_space.n\n",
    "        self.eps = 1.0\n",
    "        self.discount_rate = discount_rate\n",
    "        self.learning_rate = learning_rate\n",
    "        \n",
    "        tf.reset_default_graph()\n",
    "        tf.disable_eager_execution()\n",
    "        \n",
    "        #Input variables\n",
    "        self.obs_in = tf.placeholder(tf.int32, shape=[1])\n",
    "        self.target_in = tf.placeholder(tf.float32, shape=[1])\n",
    "        self.action_in = tf.placeholder(tf.int32, shape=[1])\n",
    "        \n",
    "        #Transform into one-hot vectors\n",
    "        self.obs = tf.one_hot(self.obs_in, depth=self.observation_size)\n",
    "        self.action = tf.one_hot(self.action_in, depth = self.action_size)\n",
    "        \n",
    "        #This dense layer will replace the q-table\n",
    "        self.q_obs = tf.layers.dense(self.obs, units= self.action_size, name=\"q_table\")\n",
    "        self.q_action = tf.reduce_sum(tf.multiply(self.q_obs, self.action), axis=1)\n",
    "        \n",
    "        #Loss function\n",
    "        self.loss= tf.reduce_sum(tf.square(self.target_in - self.q_action))\n",
    "        \n",
    "        #Optimizer\n",
    "        self.optimizer = tf.train.AdamOptimizer(self.learning_rate).minimize(self.loss)\n",
    "        \n",
    "        self.sess = tf.Session()\n",
    "        self.sess.run(tf.global_variables_initializer())\n",
    "        \n",
    "        \n",
    "    def get_action(self, observation):\n",
    "        q_obs = self.sess.run(self.q_obs, feed_dict={self.obs_in : [observation]})\n",
    "        action_exploit = np.argmax(q_obs)\n",
    "        action_random = random.choice(range(self.action_size))\n",
    "        return action_random if random.random() < self.eps else action_exploit\n",
    "    \n",
    "    def train(self, current_obs, action, next_obs, reward, done):\n",
    "        q_next = np.zeros([self.action_size]) if done else self.sess.run(self.q_obs, feed_dict={self.obs_in : [next_obs]})\n",
    "        q_target = reward + self.discount_rate * np.max(q_next)\n",
    "        \n",
    "        feed = {self.obs_in : [current_obs], self.action_in: [action], self.target_in : [q_target]}\n",
    "        self.sess.run(self.optimizer, feed_dict= feed)\n",
    "        \n",
    "        if done:\n",
    "            self.eps = self.eps * 0.99\n",
    "            \n",
    "    def __del__(self):\n",
    "        self.sess.close()\n",
    "        "
   ]
  },
  {
   "cell_type": "code",
   "execution_count": null,
   "metadata": {},
   "outputs": [
    {
     "name": "stdout",
     "output_type": "stream",
     "text": [
      "Episode: 499, Total reward: 368.0, eps: 0.006570483042414605\n",
      "  (Right)\n",
      "SFFF\n",
      "FHFH\n",
      "FFFH\n",
      "HFF\u001b[41mG\u001b[0m\n",
      "[[ 0.1394931   0.17162605  0.11659361  0.02643165]\n",
      " [ 0.15367384 -0.511191    0.00529074 -0.24440996]\n",
      " [ 0.11029028  0.12986273 -0.02828916  0.08272102]\n",
      " [ 0.13510734 -0.5741381   0.01730402  0.0631092 ]\n",
      " [ 0.17895907  0.21240185 -0.59198636  0.10004445]\n",
      " [-0.02290994  0.24929416  0.20486212  0.17972523]\n",
      " [-0.4888058   0.31031474 -0.4155228   0.03530838]\n",
      " [-0.3963793   0.35257822 -0.40063733  0.2631129 ]\n",
      " [ 0.22147614 -0.5930962   0.26538554  0.10129707]\n",
      " [ 0.22162925  0.3004659   0.30634525 -0.64311063]\n",
      " [ 0.20907904  0.3502522  -0.59114516  0.1067895 ]\n",
      " [-0.48135042  0.17995232 -0.15414649  0.10213578]\n",
      " [ 0.5324968  -0.5447055  -0.27145678  0.31972927]\n",
      " [-0.55557704  0.30813172  0.35805547  0.16700533]\n",
      " [ 0.29137644  0.35779712  0.40804118  0.23458825]\n",
      " [ 0.43027186 -0.45191765  0.3145721   0.30615276]]\n"
     ]
    }
   ],
   "source": [
    "agent = QNNAgent(env)\n",
    "total_reward = 0\n",
    "list_rewards=[]\n",
    "for ep in range(500):\n",
    "    current_obs = env.reset()\n",
    "    done = False\n",
    "    list_rewards.append(total_reward)\n",
    "    while not done:\n",
    "        action = agent.get_action(current_obs)\n",
    "        next_obs, reward, done, info = env.step(action)\n",
    "        agent.train(current_obs, action, next_obs, reward, done)\n",
    "        current_obs = next_obs\n",
    "        total_reward += reward\n",
    "        print(\"Episode: {}, Total reward: {}, eps: {}\". format(ep, total_reward, agent.eps))\n",
    "        env.render()\n",
    "        \n",
    "        #We print the weights of the dense layer\n",
    "        with tf.variable_scope(\"q_table\", reuse=True):\n",
    "            weights = agent.sess.run(tf.get_variable(\"kernel\"))\n",
    "            print(weights)\n",
    "        time.sleep(0.01)\n",
    "        clear_output(wait=True)"
   ]
  },
  {
   "cell_type": "code",
   "execution_count": null,
   "metadata": {},
   "outputs": [
    {
     "data": {
      "image/png": "[encoded data removed]",
      "text/plain": [
       "<Figure size 432x288 with 1 Axes>"
      ]
     },
     "metadata": {
      "needs_background": "light"
     },
     "output_type": "display_data"
    }
   ],
   "source": [
    "plt.plot(range(500), list_rewards)\n",
    "plt.xlabel('Episodes')\n",
    "plt.ylabel('Total rewards')\n",
    "plt.show()"
   ]
  },
  {
   "cell_type": "markdown",
   "metadata": {},
   "source": [
    "## Q-Learning with Experience Replay\n",
    "\n",
    "We now add an experience buffer to store previous experiences. This will enable our agent to learn from previous experiences multiple times."
   ]
  },
  {
   "cell_type": "code",
   "execution_count": null,
   "metadata": {},
   "outputs": [],
   "source": [
    "class QNNAgentER():\n",
    "    def __init__(self, env, discount_rate = 0.97, learning_rate = 0.001): #We reduced the learning rate\n",
    "        self.observation_size = env.observation_space.n\n",
    "        self.action_size = env.action_space.n\n",
    "        self.eps = 1.0\n",
    "        self.discount_rate = discount_rate\n",
    "        self.learning_rate = learning_rate\n",
    "        \n",
    "        tf.reset_default_graph()\n",
    "        tf.disable_eager_execution()\n",
    "        \n",
    "        #Input variables\n",
    "        self.obs_in = tf.placeholder(tf.int32, shape=[None])\n",
    "        self.action_in = tf.placeholder(tf.int32, shape=[None])\n",
    "        self.target_in = tf.placeholder(tf.float32, shape=[None])\n",
    "        \n",
    "        #Transform into one-hot vectors\n",
    "        self.obs = tf.one_hot(self.obs_in, depth = self.observation_size)\n",
    "        self.action = tf.one_hot(self.action_in, depth = self.action_size)\n",
    "        \n",
    "        self.q_obs = tf.layers.dense(self.obs, units=self.action_size, name=\"q_table\")\n",
    "        self.q_action = tf.reduce_sum(tf.multiply(self.q_obs, self.action), axis=1)\n",
    "        \n",
    "        #Loss function\n",
    "        self.loss= tf.reduce_sum(tf.square(self.target_in - self.q_action))\n",
    "        \n",
    "        #Optimizer\n",
    "        self.optimizer = tf.train.AdamOptimizer(self.learning_rate).minimize(self.loss)\n",
    "        \n",
    "        self.sess = tf.Session()\n",
    "        self.sess.run(tf.global_variables_initializer())\n",
    "        \n",
    "        #Experience buffer\n",
    "        self.replay_buffer = deque(maxlen=1000)\n",
    "        \n",
    "    def get_action(self, observation):\n",
    "        q_obs = self.sess.run(self.q_obs, feed_dict={self.obs_in : [observation]})\n",
    "        action_exploit = np.argmax(q_obs)\n",
    "        action_random = random.choice(range(self.action_size))\n",
    "        return action_random if random.random() < self.eps else action_exploit\n",
    "    \n",
    "    def train(self, experience, batch_size=50):\n",
    "        #We store the new experience into the experience buffer\n",
    "        self.replay_buffer.append(experience)\n",
    "        \n",
    "        #We extract an experience batch from the experience buffer\n",
    "        samples = random.choices(self.replay_buffer, k=batch_size)\n",
    "        current_obs, action, next_obs, reward, done = (list(col) for col in zip(experience,*samples))\n",
    "        \n",
    "        #We compute the q_target for the experiences in the batch\n",
    "        q_next = self.sess.run(self.q_obs, feed_dict={self.obs_in: next_obs})\n",
    "        q_next[done] = np.zeros([self.action_size])\n",
    "        q_target = reward + self.discount_rate * np.max(q_next, axis=1)\n",
    "        \n",
    "        #We update the weights of the dense layer\n",
    "        feed = {self.obs_in : current_obs, self.action_in: action, self.target_in : q_target}\n",
    "        self.sess.run(self.optimizer, feed_dict = feed)\n",
    "        \n",
    "        if experience[4]:\n",
    "            self.eps = self.eps * 0.99\n",
    "            \n",
    "    def __del__(self):\n",
    "        self.sess.close()"
   ]
  },
  {
   "cell_type": "code",
   "execution_count": null,
   "metadata": {},
   "outputs": [
    {
     "name": "stdout",
     "output_type": "stream",
     "text": [
      "Episode: 499, Total reward: 354.0, eps: 0.006570483042414605\n",
      "  (Right)\n",
      "SFFF\n",
      "FHFH\n",
      "FFFH\n",
      "HFF\u001b[41mG\u001b[0m\n",
      "[[ 0.2968319   0.3291784   0.42602202  0.3312777 ]\n",
      " [ 0.2960946  -0.47057977  0.45243576  0.3523932 ]\n",
      " [ 0.3189321   0.43368602  0.37654254  0.390488  ]\n",
      " [ 0.35085642 -0.2693847   0.2951657   0.34609172]\n",
      " [ 0.28399003  0.30260298 -0.38072234  0.3400457 ]\n",
      " [ 0.33774716 -0.37992764  0.24035352  0.4536687 ]\n",
      " [-0.5215239   0.4619448  -0.41913646  0.32252184]\n",
      " [ 0.06018358  0.36539942 -0.4860709  -0.29735458]\n",
      " [ 0.05482299 -0.473626    0.23633975  0.31122202]\n",
      " [ 0.10334086  0.40594706  0.5088744  -0.01393639]\n",
      " [ 0.32537577  0.4909358  -0.42489284  0.4196993 ]\n",
      " [ 0.53592634 -0.4000732   0.30571324 -0.30173135]\n",
      " [ 0.31085837 -0.03507584  0.2544464  -0.3227734 ]\n",
      " [-0.4086607   0.39500722  0.32021987  0.42001376]\n",
      " [ 0.34369692  0.49031818  0.56722933  0.42264724]\n",
      " [-0.46932217  0.40719557 -0.09471896  0.49868655]]\n"
     ]
    }
   ],
   "source": [
    "agent = QNNAgentER(env)\n",
    "total_reward = 0\n",
    "list_rewards=[]\n",
    "\n",
    "for ep in range(500):\n",
    "    current_obs = env.reset()\n",
    "    done = False\n",
    "    list_rewards.append(total_reward)\n",
    "    while not done:\n",
    "        action = agent.get_action(current_obs)\n",
    "        next_obs, reward, done, info = env.step(action)\n",
    "        agent.train((current_obs, action, next_obs, reward, done))\n",
    "        current_obs = next_obs\n",
    "        total_reward += reward\n",
    "        print(\"Episode: {}, Total reward: {}, eps: {}\". format(ep, total_reward, agent.eps))\n",
    "        env.render()\n",
    "        \n",
    "        #We print the weights of the dense layer\n",
    "        with tf.variable_scope(\"q_table\", reuse=True):\n",
    "            weights= agent.sess.run(tf.get_variable(\"kernel\"))\n",
    "            print(weights)\n",
    "        time.sleep(0.01)\n",
    "        clear_output(wait=True)"
   ]
  },
  {
   "cell_type": "code",
   "execution_count": null,
   "metadata": {},
   "outputs": [
    {
     "data": {
      "image/png": "[encoded data removed]",
      "text/plain": [
       "<Figure size 432x288 with 1 Axes>"
      ]
     },
     "metadata": {
      "needs_background": "light"
     },
     "output_type": "display_data"
    }
   ],
   "source": [
    "plt.plot(range(500), list_rewards)\n",
    "plt.xlabel('Episodes')\n",
    "plt.ylabel('Total rewards')\n",
    "plt.show()"
   ]
  },
  {
   "cell_type": "markdown",
   "metadata": {},
   "source": [
    "## Q-Learning with Prioritized Experience Replay\n",
    "\n",
    "Instead of randomly picking an experience batch from the experience replay buffer, we will attach a priority to each experience based on the value of the error, i.e. the difference between the target value and the value returned by the q-table."
   ]
  },
  {
   "cell_type": "code",
   "execution_count": null,
   "metadata": {},
   "outputs": [],
   "source": [
    "class PrioritizedReplayBuffer():\n",
    "    def __init__(self, maxlen):\n",
    "        self.buffer = deque(maxlen=maxlen)\n",
    "        self.priorities = deque(maxlen=maxlen)\n",
    "        \n",
    "    #A new experience is given the maximum priority\n",
    "    def add(self, experience):\n",
    "        self.buffer.append(experience)\n",
    "        self.priorities.append(max(self.priorities, default=1))\n",
    "        \n",
    "    def get_probabilities(self, priority_scale):\n",
    "        scaled_priorities = np.array(self.priorities) ** priority_scale\n",
    "        sample_probabilities = scaled_priorities / sum(scaled_priorities)\n",
    "        return sample_probabilities\n",
    "    \n",
    "    def get_importance(self, probabilities):\n",
    "        importance = 1/(len(self.buffer) *probabilities)\n",
    "        importance_normalized = importance / max(importance)\n",
    "        return importance_normalized\n",
    "        \n",
    "    def sample(self, batch_size, priority_scale=1.0):\n",
    "        sample_size = min(len(self.buffer), batch_size)\n",
    "        sample_probs = self.get_probabilities(priority_scale)\n",
    "        sample_indices = random.choices(range(len(self.buffer)), k=sample_size, weights=sample_probs)\n",
    "        samples = np.array(self.buffer)[sample_indices]\n",
    "        importance = self.get_importance(sample_probs[sample_indices])\n",
    "        return map(list, zip(*samples)), importance, sample_indices\n",
    "    \n",
    "    def set_priorities(self, indices, errors, offset=0.001):\n",
    "        for i,e in zip(indices, errors):\n",
    "            self.priorities[i] = abs(e) + offset"
   ]
  },
  {
   "cell_type": "code",
   "execution_count": null,
   "metadata": {},
   "outputs": [],
   "source": [
    "class QNNAgentPER():\n",
    "    def __init__(self, env, discount_rate = 0.97, learning_rate = 0.001):\n",
    "        self.observation_size = env.observation_space.n\n",
    "        self.action_size = env.action_space.n\n",
    "        \n",
    "        self.eps = 1.0\n",
    "        \n",
    "        self.discount_rate = discount_rate\n",
    "        self.learning_rate = learning_rate\n",
    "        \n",
    "        tf.reset_default_graph()\n",
    "        tf.disable_eager_execution()\n",
    "        \n",
    "        #Input variables\n",
    "        self.obs_in = tf.placeholder(tf.int32, shape=[None])\n",
    "        self.action_in = tf.placeholder(tf.int32, shape=[None])\n",
    "        self.target_in = tf.placeholder(tf.float32, shape=[None])\n",
    "        self.importance_in = tf.placeholder(tf.float32, shape=[None])\n",
    "        \n",
    "        #Transform into one-hot vectors\n",
    "        self.obs = tf.one_hot(self.obs_in, depth = self.observation_size)\n",
    "        self.action = tf.one_hot(self.action_in, depth = self.action_size)\n",
    "        \n",
    "        self.q_obs = tf.layers.dense(self.obs, units=self.action_size, name=\"q_table\")\n",
    "        self.q_action = tf.reduce_sum(tf.multiply(self.q_obs, self.action), axis=1)\n",
    "        \n",
    "        #Error\n",
    "        self.error = self.target_in - self.q_action\n",
    "        \n",
    "        #Loss function\n",
    "        self.loss= tf.reduce_mean(tf.multiply(tf.square(self.error), self.importance_in))\n",
    "        \n",
    "        #Optimizer\n",
    "        self.optimizer = tf.train.AdamOptimizer(self.learning_rate).minimize(self.loss)\n",
    "        \n",
    "        self.sess = tf.Session()\n",
    "        self.sess.run(tf.global_variables_initializer())\n",
    "        \n",
    "        #Experience buffer\n",
    "        self.replay_buffer = PrioritizedReplayBuffer(maxlen=1000)\n",
    "        \n",
    "    def get_action(self, observation):\n",
    "        q_obs = self.sess.run(self.q_obs, feed_dict={self.obs_in : [observation]})\n",
    "        action_exploit = np.argmax(q_obs)\n",
    "        action_random = random.choice(range(self.action_size))\n",
    "        return action_random if random.random() < self.eps else action_exploit\n",
    "    \n",
    "    def train(self, experience, batch_size=50, a = 0.0):\n",
    "        #We add the new experience in the experience replay buffer\n",
    "        self.replay_buffer.add(experience)\n",
    "        \n",
    "        #We get a sample from the experience replay buffer\n",
    "        (current_obs, action, next_obs, reward, done),  importance, indices = self.replay_buffer.sample(batch_size, priority_scale = a)\n",
    "        \n",
    "        #We compute the q_targets for the experiences in the sample\n",
    "        q_next = np.array(self.sess.run(self.q_obs, feed_dict={self.obs_in: next_obs}))\n",
    "        q_next[list(map(bool,[int(d) for d in done]))] = np.zeros([self.action_size])\n",
    "        q_target = reward + self.discount_rate * np.max(q_next, axis=1)\n",
    "        \n",
    "        #We update the weights of the dense layer\n",
    "        feed = {self.obs_in : current_obs, self.action_in: action, self.target_in : q_target, self.importance_in: importance**(1 - self.eps)}\n",
    "        self.sess.run(self.optimizer, feed_dict = feed)\n",
    "        \n",
    "        #We also need to update the priorities of the experiences that were in the sample\n",
    "        self.replay_buffer.set_priorities(indices, self.sess.run(self.error, feed_dict=feed))\n",
    "        \n",
    "        if experience[4]:\n",
    "            self.eps = max(0.1, self.eps * 0.995)\n",
    "            \n",
    "    def __del__(self):\n",
    "        self.sess.close()\n",
    "        \n",
    "    "
   ]
  },
  {
   "cell_type": "code",
   "execution_count": null,
   "metadata": {},
   "outputs": [
    {
     "name": "stdout",
     "output_type": "stream",
     "text": [
      "Run 8, Episode: 121, total_reward: 1.00, eps: 0.5452463540625918\n"
     ]
    }
   ],
   "source": [
    "num_runs = 10\n",
    "run_rewards = []\n",
    "\n",
    "for n in range(num_runs):\n",
    "    list_rewards=[]\n",
    "    agent = None\n",
    "    agent = QNNAgentPER(env)\n",
    "    num_episodes = 500\n",
    "    total_reward= 0\n",
    "    \n",
    "    for ep in range(num_episodes):\n",
    "        current_obs = env.reset()\n",
    "        done = False\n",
    "        while not done:\n",
    "            action = agent.get_action(current_obs)\n",
    "            next_obs, reward, done, info = env.step(action)\n",
    "            agent.train((current_obs, action, next_obs, reward, done), batch_size=50, a=(n%2==0)*0.8)\n",
    "            current_obs = next_obs\n",
    "            total_reward += reward\n",
    "            print(\"Run {}, Episode: {}, total_reward: {:.2f}, eps: {}\".format(n,ep, total_reward, agent.eps))\n",
    "            clear_output(wait=True)\n",
    "        list_rewards.append(total_reward)\n",
    "    run_rewards.append(list_rewards)"
   ]
  },
  {
   "cell_type": "code",
   "execution_count": null,
   "metadata": {},
   "outputs": [],
   "source": [
    "for n, ep_rewards in enumerate(run_rewards):\n",
    "    col = \"r\" if (n%2==0) else \"b\"\n",
    "    plt.plot(range(500), ep_rewards, color=col, label=n)\n",
    "\n",
    "plt.xlabel('Episodes')\n",
    "plt.ylabel('Total rewards')\n",
    "plt.show"
   ]
  }
 ],
 "metadata": {
  "kernelspec": {
   "display_name": "Python 3",
   "language": "python",
   "name": "python3"
  },
  "language_info": {
   "codemirror_mode": {
    "name": "ipython",
    "version": 3
   },
   "file_extension": ".py",
   "mimetype": "text/x-python",
   "name": "python",
   "nbconvert_exporter": "python",
   "pygments_lexer": "ipython3",
   "version": "3.6.9"
  }
 },
 "nbformat": 4,
 "nbformat_minor": 2
}
