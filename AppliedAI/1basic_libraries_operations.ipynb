{
 "cells": [
  {
   "cell_type": "markdown",
   "metadata": {},
   "source": [
    "# University of Aberdeen\n",
    "\n",
    "## Applied AI (CS5079)\n",
    "\n",
    "### Lecture (Day 1) - Introduction to Applied AI\n",
    "\n",
    "---\n",
    "\n",
    "In the lecture, we introduced the several challenges/techniques of Artificial intelligence and the essential packages used in the course.\n",
    "\n"
   ]
  },
  {
   "cell_type": "markdown",
   "metadata": {},
   "source": [
    "## Numpy\n",
    "\n",
    "NumPy is a Python library for representing large, multi-dimensional arrays along with high-level mathematical functions to operate on these arrays.\n",
    "\n",
    "### Importing and creating an array"
   ]
  },
  {
   "cell_type": "code",
   "execution_count": 1,
   "metadata": {},
   "outputs": [
    {
     "name": "stdout",
     "output_type": "stream",
     "text": [
      "[[9.3 8.1 7.2 3.2 4.6 5.1]\n",
      " [6.  5.  4.  1.3 2.7 9.8]]\n"
     ]
    }
   ],
   "source": [
    "#Importing the package\n",
    "import numpy as np\n",
    "\n",
    "#Creating an Numpy Array\n",
    "a = np.array([[9.3, 8.1, 7.2, 3.2, 4.6,5.1], \n",
    "[6.0, 5.0, 4.0, 1.3, 2.7, 9.8]])\n",
    "\n",
    "print(a)"
   ]
  },
  {
   "cell_type": "code",
   "execution_count": 2,
   "metadata": {},
   "outputs": [
    {
     "data": {
      "text/plain": [
       "(2, 6)"
      ]
     },
     "execution_count": 2,
     "metadata": {},
     "output_type": "execute_result"
    }
   ],
   "source": [
    "#Getting the shape of the array\n",
    "a.shape "
   ]
  },
  {
   "cell_type": "code",
   "execution_count": 3,
   "metadata": {},
   "outputs": [
    {
     "data": {
      "text/plain": [
       "dtype('float64')"
      ]
     },
     "execution_count": 3,
     "metadata": {},
     "output_type": "execute_result"
    }
   ],
   "source": [
    "#Getting the data type\n",
    "a.dtype"
   ]
  },
  {
   "cell_type": "markdown",
   "metadata": {},
   "source": [
    "### Basic Indexing"
   ]
  },
  {
   "cell_type": "code",
   "execution_count": 4,
   "metadata": {},
   "outputs": [
    {
     "data": {
      "text/plain": [
       "9.8"
      ]
     },
     "execution_count": 4,
     "metadata": {},
     "output_type": "execute_result"
    }
   ],
   "source": [
    "#Getting a specific element (last element of second row)\n",
    "a[1,-1]"
   ]
  },
  {
   "cell_type": "code",
   "execution_count": 5,
   "metadata": {},
   "outputs": [
    {
     "data": {
      "text/plain": [
       "array([[8.1, 3.2, 5.1],\n",
       "       [5. , 1.3, 9.8]])"
      ]
     },
     "execution_count": 5,
     "metadata": {},
     "output_type": "execute_result"
    }
   ],
   "source": [
    "#Getting a subset of the array\n",
    "a[:,1:6:2]"
   ]
  },
  {
   "cell_type": "code",
   "execution_count": 6,
   "metadata": {},
   "outputs": [
    {
     "data": {
      "text/plain": [
       "array([[6. , 5. , 4. ],\n",
       "       [1.3, 2.7, 9.8]])"
      ]
     },
     "execution_count": 6,
     "metadata": {},
     "output_type": "execute_result"
    }
   ],
   "source": [
    "# Reshaping\n",
    "a[1,:].reshape(2,3)"
   ]
  },
  {
   "cell_type": "markdown",
   "metadata": {},
   "source": [
    "### Boolean Indexing"
   ]
  },
  {
   "cell_type": "code",
   "execution_count": 7,
   "metadata": {},
   "outputs": [
    {
     "name": "stdout",
     "output_type": "stream",
     "text": [
      "[[ 0.34206189 -0.87175256]\n",
      " [-0.69493669 -0.62761668]\n",
      " [-1.87086112  0.76290692]]\n"
     ]
    }
   ],
   "source": [
    "persons = np.array([\"john\", \"alice\", \"peter\"])\n",
    "person_data = np.random.randn(3,2)\n",
    "print(person_data)"
   ]
  },
  {
   "cell_type": "code",
   "execution_count": 8,
   "metadata": {},
   "outputs": [
    {
     "data": {
      "text/plain": [
       "array([[-0.69493669, -0.62761668]])"
      ]
     },
     "execution_count": 8,
     "metadata": {},
     "output_type": "execute_result"
    }
   ],
   "source": [
    "person_data[persons == \"alice\"]"
   ]
  },
  {
   "cell_type": "code",
   "execution_count": 9,
   "metadata": {},
   "outputs": [
    {
     "name": "stdout",
     "output_type": "stream",
     "text": [
      "[[ 0.         -0.87175256]\n",
      " [-0.69493669 -0.62761668]\n",
      " [-1.87086112  0.        ]]\n"
     ]
    }
   ],
   "source": [
    "# Replace values\n",
    "person_data[person_data > 0] = 0\n",
    "print(person_data)"
   ]
  },
  {
   "cell_type": "markdown",
   "metadata": {},
   "source": [
    "### Generating arrays"
   ]
  },
  {
   "cell_type": "code",
   "execution_count": 10,
   "metadata": {},
   "outputs": [
    {
     "data": {
      "text/plain": [
       "array([[0, 0, 0],\n",
       "       [0, 0, 0]])"
      ]
     },
     "execution_count": 10,
     "metadata": {},
     "output_type": "execute_result"
    }
   ],
   "source": [
    "#All same number matrix (also np.ones or np.zeros)\n",
    "np.full((2,3),0)"
   ]
  },
  {
   "cell_type": "code",
   "execution_count": 11,
   "metadata": {},
   "outputs": [
    {
     "name": "stdout",
     "output_type": "stream",
     "text": [
      "[[1. 0. 0.]\n",
      " [0. 1. 0.]\n",
      " [0. 0. 1.]]\n"
     ]
    }
   ],
   "source": [
    "#Creating the Identity matrix of size n\n",
    "b = np.identity(3)\n",
    "print(b)"
   ]
  },
  {
   "cell_type": "code",
   "execution_count": 12,
   "metadata": {},
   "outputs": [
    {
     "name": "stdout",
     "output_type": "stream",
     "text": [
      "[[0 1 2]\n",
      " [3 4 5]]\n"
     ]
    }
   ],
   "source": [
    "#Creating a numpy array with a sequence of numbers from 0 to n\n",
    "c = np.arange(6).reshape(2,3)\n",
    "print(c)"
   ]
  },
  {
   "cell_type": "markdown",
   "metadata": {},
   "source": [
    "### Linear Algebra"
   ]
  },
  {
   "cell_type": "code",
   "execution_count": 13,
   "metadata": {},
   "outputs": [
    {
     "name": "stdout",
     "output_type": "stream",
     "text": [
      "[[ -4.43665894  -0.62761668]\n",
      " [-12.1340524   -5.12572441]]\n"
     ]
    }
   ],
   "source": [
    "#The Dot product\n",
    "d = c.dot(person_data)\n",
    "print(d)"
   ]
  },
  {
   "cell_type": "code",
   "execution_count": 14,
   "metadata": {},
   "outputs": [
    {
     "data": {
      "text/plain": [
       "array([[0, 3],\n",
       "       [1, 4],\n",
       "       [2, 5]])"
      ]
     },
     "execution_count": 14,
     "metadata": {},
     "output_type": "execute_result"
    }
   ],
   "source": [
    "#The transpose of a matrix\n",
    "np.transpose(c)"
   ]
  },
  {
   "cell_type": "code",
   "execution_count": 15,
   "metadata": {},
   "outputs": [
    {
     "name": "stdout",
     "output_type": "stream",
     "text": [
      "[[ -4.43665894  -0.62761668]\n",
      " [-12.1340524   -5.12572441]]\n"
     ]
    }
   ],
   "source": [
    "#The SVD factorisation\n",
    "u, s, vh = np.linalg.svd(d)\n",
    "\n",
    "#The matrix d can be recomposed using the following code\n",
    "print(u.dot(np.diag(s).dot(vh)))"
   ]
  },
  {
   "cell_type": "code",
   "execution_count": 16,
   "metadata": {},
   "outputs": [
    {
     "data": {
      "text/plain": [
       "array([ 0.25531915, -0.42553191, -5.44680851])"
      ]
     },
     "execution_count": 16,
     "metadata": {},
     "output_type": "execute_result"
    }
   ],
   "source": [
    "#Solving equations\n",
    "# 7x+5y−3z=16, 3x−5y+2z=−8 and 5x+3y=0\n",
    " \n",
    "a = np.array([[7,5,-3], [3, -5, 2], [5, 3, 0]])\n",
    "b = np.array([16,-8, 0])\n",
    "np.linalg.solve(a,b)"
   ]
  },
  {
   "cell_type": "markdown",
   "metadata": {},
   "source": [
    "## Pandas\n",
    "\n",
    "Pandas is a Python library for data manipulation and analysis. It offers data structures (Series & Dataframes) and operations for manipulating them.\n",
    "\n",
    "### Data Retrieval"
   ]
  },
  {
   "cell_type": "code",
   "execution_count": 17,
   "metadata": {},
   "outputs": [
    {
     "data": {
      "text/html": [
       "<div>\n",
       "<style scoped>\n",
       "    .dataframe tbody tr th:only-of-type {\n",
       "        vertical-align: middle;\n",
       "    }\n",
       "\n",
       "    .dataframe tbody tr th {\n",
       "        vertical-align: top;\n",
       "    }\n",
       "\n",
       "    .dataframe thead th {\n",
       "        text-align: right;\n",
       "    }\n",
       "</style>\n",
       "<table border=\"1\" class=\"dataframe\">\n",
       "  <thead>\n",
       "    <tr style=\"text-align: right;\">\n",
       "      <th></th>\n",
       "      <th>city</th>\n",
       "      <th>data</th>\n",
       "    </tr>\n",
       "  </thead>\n",
       "  <tbody>\n",
       "    <tr>\n",
       "      <th>0</th>\n",
       "      <td>Delhi</td>\n",
       "      <td>1000</td>\n",
       "    </tr>\n",
       "    <tr>\n",
       "      <th>1</th>\n",
       "      <td>Bangalore</td>\n",
       "      <td>2000</td>\n",
       "    </tr>\n",
       "  </tbody>\n",
       "</table>\n",
       "</div>"
      ],
      "text/plain": [
       "        city  data\n",
       "0      Delhi  1000\n",
       "1  Bangalore  2000"
      ]
     },
     "execution_count": 17,
     "metadata": {},
     "output_type": "execute_result"
    }
   ],
   "source": [
    "#Importing the package\n",
    "import pandas as pd\n",
    "\n",
    "#List of dictionaries to Dataframe\n",
    "d = [{'city':'Delhi',\"data\":1000}, {'city':'Bangalore',\"data\":2000}]\n",
    "pd.DataFrame(d)"
   ]
  },
  {
   "cell_type": "code",
   "execution_count": 18,
   "metadata": {},
   "outputs": [
    {
     "name": "stdout",
     "output_type": "stream",
     "text": [
      "          A         B         C\n",
      "0 -1.319606 -0.170999 -0.584205\n",
      "1 -2.080703 -0.037099  0.272024\n"
     ]
    }
   ],
   "source": [
    "#Numpy Array to Dataframe\n",
    "c = pd.DataFrame(np.random.randn(2,3), columns=['A','B','C'])\n",
    "print(c)"
   ]
  },
  {
   "cell_type": "code",
   "execution_count": 19,
   "metadata": {},
   "outputs": [
    {
     "name": "stdout",
     "output_type": "stream",
     "text": [
      "              city   city_ascii      lat       lng        country iso2 iso3  \\\n",
      "0            Tokyo        Tokyo  35.6850  139.7514          Japan   JP  JPN   \n",
      "1         New York     New York  40.6943  -73.9249  United States   US  USA   \n",
      "2      Mexico City  Mexico City  19.4424  -99.1310         Mexico   MX  MEX   \n",
      "3           Mumbai       Mumbai  19.0170   72.8570          India   IN  IND   \n",
      "4        São Paulo    Sao Paulo -23.5587  -46.6250         Brazil   BR  BRA   \n",
      "...            ...          ...      ...       ...            ...  ...  ...   \n",
      "15488  Timmiarmiut  Timmiarmiut  62.5333  -42.2167      Greenland   GL  GRL   \n",
      "15489  Cheremoshna  Cheremoshna  51.3894   30.0989        Ukraine   UA  UKR   \n",
      "15490    Ambarchik    Ambarchik  69.6510  162.3336         Russia   RU  RUS   \n",
      "15491      Nordvik      Nordvik  74.0165  111.5100         Russia   RU  RUS   \n",
      "15492      Ennadai      Ennadai  61.1333 -100.8833         Canada   CA  CAN   \n",
      "\n",
      "               admin_name  capital  population          id  \n",
      "0                   Tōkyō  primary  35676000.0  1392685764  \n",
      "1                New York      NaN  19354922.0  1840034016  \n",
      "2        Ciudad de México  primary  19028000.0  1484247881  \n",
      "3             Mahārāshtra    admin  18978000.0  1356226629  \n",
      "4               São Paulo    admin  18845000.0  1076532519  \n",
      "...                   ...      ...         ...         ...  \n",
      "15488            Kujalleq      NaN        10.0  1304206491  \n",
      "15489   Kyyivs’ka Oblast’      NaN         0.0  1804043438  \n",
      "15490    Sakha (Yakutiya)      NaN         0.0  1643739159  \n",
      "15491  Krasnoyarskiy Kray      NaN         0.0  1643587468  \n",
      "15492             Nunavut      NaN         0.0  1124019423  \n",
      "\n",
      "[15493 rows x 11 columns]\n"
     ]
    }
   ],
   "source": [
    "#CSV to Dataframe\n",
    "cd = pd.read_csv(\"Resources/worldcities.csv\")\n",
    "print(cd)"
   ]
  },
  {
   "cell_type": "markdown",
   "metadata": {},
   "source": [
    "### Basic Access"
   ]
  },
  {
   "cell_type": "code",
   "execution_count": 20,
   "metadata": {},
   "outputs": [
    {
     "data": {
      "text/html": [
       "<div>\n",
       "<style scoped>\n",
       "    .dataframe tbody tr th:only-of-type {\n",
       "        vertical-align: middle;\n",
       "    }\n",
       "\n",
       "    .dataframe tbody tr th {\n",
       "        vertical-align: top;\n",
       "    }\n",
       "\n",
       "    .dataframe thead th {\n",
       "        text-align: right;\n",
       "    }\n",
       "</style>\n",
       "<table border=\"1\" class=\"dataframe\">\n",
       "  <thead>\n",
       "    <tr style=\"text-align: right;\">\n",
       "      <th></th>\n",
       "      <th>city</th>\n",
       "      <th>city_ascii</th>\n",
       "      <th>lat</th>\n",
       "      <th>lng</th>\n",
       "      <th>country</th>\n",
       "      <th>iso2</th>\n",
       "      <th>iso3</th>\n",
       "      <th>admin_name</th>\n",
       "      <th>capital</th>\n",
       "      <th>population</th>\n",
       "      <th>id</th>\n",
       "    </tr>\n",
       "  </thead>\n",
       "  <tbody>\n",
       "    <tr>\n",
       "      <th>0</th>\n",
       "      <td>Tokyo</td>\n",
       "      <td>Tokyo</td>\n",
       "      <td>35.6850</td>\n",
       "      <td>139.7514</td>\n",
       "      <td>Japan</td>\n",
       "      <td>JP</td>\n",
       "      <td>JPN</td>\n",
       "      <td>Tōkyō</td>\n",
       "      <td>primary</td>\n",
       "      <td>35676000.0</td>\n",
       "      <td>1392685764</td>\n",
       "    </tr>\n",
       "    <tr>\n",
       "      <th>1</th>\n",
       "      <td>New York</td>\n",
       "      <td>New York</td>\n",
       "      <td>40.6943</td>\n",
       "      <td>-73.9249</td>\n",
       "      <td>United States</td>\n",
       "      <td>US</td>\n",
       "      <td>USA</td>\n",
       "      <td>New York</td>\n",
       "      <td>NaN</td>\n",
       "      <td>19354922.0</td>\n",
       "      <td>1840034016</td>\n",
       "    </tr>\n",
       "  </tbody>\n",
       "</table>\n",
       "</div>"
      ],
      "text/plain": [
       "       city city_ascii      lat       lng        country iso2 iso3 admin_name  \\\n",
       "0     Tokyo      Tokyo  35.6850  139.7514          Japan   JP  JPN      Tōkyō   \n",
       "1  New York   New York  40.6943  -73.9249  United States   US  USA   New York   \n",
       "\n",
       "   capital  population          id  \n",
       "0  primary  35676000.0  1392685764  \n",
       "1      NaN  19354922.0  1840034016  "
      ]
     },
     "execution_count": 20,
     "metadata": {},
     "output_type": "execute_result"
    }
   ],
   "source": [
    "#Head and tail\n",
    "cd.head(2)"
   ]
  },
  {
   "cell_type": "code",
   "execution_count": 21,
   "metadata": {},
   "outputs": [
    {
     "data": {
      "text/html": [
       "<div>\n",
       "<style scoped>\n",
       "    .dataframe tbody tr th:only-of-type {\n",
       "        vertical-align: middle;\n",
       "    }\n",
       "\n",
       "    .dataframe tbody tr th {\n",
       "        vertical-align: top;\n",
       "    }\n",
       "\n",
       "    .dataframe thead th {\n",
       "        text-align: right;\n",
       "    }\n",
       "</style>\n",
       "<table border=\"1\" class=\"dataframe\">\n",
       "  <thead>\n",
       "    <tr style=\"text-align: right;\">\n",
       "      <th></th>\n",
       "      <th>city</th>\n",
       "      <th>city_ascii</th>\n",
       "      <th>lat</th>\n",
       "      <th>lng</th>\n",
       "    </tr>\n",
       "  </thead>\n",
       "  <tbody>\n",
       "    <tr>\n",
       "      <th>0</th>\n",
       "      <td>Tokyo</td>\n",
       "      <td>Tokyo</td>\n",
       "      <td>35.6850</td>\n",
       "      <td>139.7514</td>\n",
       "    </tr>\n",
       "    <tr>\n",
       "      <th>1</th>\n",
       "      <td>New York</td>\n",
       "      <td>New York</td>\n",
       "      <td>40.6943</td>\n",
       "      <td>-73.9249</td>\n",
       "    </tr>\n",
       "  </tbody>\n",
       "</table>\n",
       "</div>"
      ],
      "text/plain": [
       "       city city_ascii      lat       lng\n",
       "0     Tokyo      Tokyo  35.6850  139.7514\n",
       "1  New York   New York  40.6943  -73.9249"
      ]
     },
     "execution_count": 21,
     "metadata": {},
     "output_type": "execute_result"
    }
   ],
   "source": [
    "#iloc\n",
    "cd.iloc[:2,:4]"
   ]
  },
  {
   "cell_type": "markdown",
   "metadata": {},
   "source": [
    "### Boolean Access"
   ]
  },
  {
   "cell_type": "code",
   "execution_count": 22,
   "metadata": {},
   "outputs": [
    {
     "data": {
      "text/html": [
       "<div>\n",
       "<style scoped>\n",
       "    .dataframe tbody tr th:only-of-type {\n",
       "        vertical-align: middle;\n",
       "    }\n",
       "\n",
       "    .dataframe tbody tr th {\n",
       "        vertical-align: top;\n",
       "    }\n",
       "\n",
       "    .dataframe thead th {\n",
       "        text-align: right;\n",
       "    }\n",
       "</style>\n",
       "<table border=\"1\" class=\"dataframe\">\n",
       "  <thead>\n",
       "    <tr style=\"text-align: right;\">\n",
       "      <th></th>\n",
       "      <th>city</th>\n",
       "      <th>population</th>\n",
       "    </tr>\n",
       "  </thead>\n",
       "  <tbody>\n",
       "    <tr>\n",
       "      <th>0</th>\n",
       "      <td>Tokyo</td>\n",
       "      <td>35676000.0</td>\n",
       "    </tr>\n",
       "  </tbody>\n",
       "</table>\n",
       "</div>"
      ],
      "text/plain": [
       "    city  population\n",
       "0  Tokyo  35676000.0"
      ]
     },
     "execution_count": 22,
     "metadata": {},
     "output_type": "execute_result"
    }
   ],
   "source": [
    "cd[cd.population > 20000000][[\"city\", \"population\"]]"
   ]
  },
  {
   "cell_type": "code",
   "execution_count": 23,
   "metadata": {},
   "outputs": [
    {
     "name": "stdout",
     "output_type": "stream",
     "text": [
      "    city city_ascii     lat       lng country iso2 iso3 admin_name  capital  \\\n",
      "0  Tokyo      Tokyo  35.685  139.7514   Japan   JP  JPN      Tōkyō  primary   \n",
      "1    NaN        NaN     NaN       NaN     NaN  NaN  NaN        NaN      NaN   \n",
      "\n",
      "   population            id  \n",
      "0  35676000.0  1.392686e+09  \n",
      "1         NaN           NaN  \n"
     ]
    }
   ],
   "source": [
    "#The where method will keep the shape of the DataFrame\n",
    "e = cd[cd.population > 10000000].where(cd.population > 20000000).head(2)\n",
    "print(e)"
   ]
  },
  {
   "cell_type": "code",
   "execution_count": 24,
   "metadata": {},
   "outputs": [
    {
     "name": "stdout",
     "output_type": "stream",
     "text": [
      "       city city_ascii       lat       lng   country      iso2      iso3  \\\n",
      "0     Tokyo      Tokyo    35.685   139.751     Japan        JP       JPN   \n",
      "1  No value   No value  No value  No value  No value  No value  No value   \n",
      "\n",
      "  admin_name   capital  population           id  \n",
      "0      Tōkyō   primary  3.5676e+07  1.39269e+09  \n",
      "1   No value  No value    No value     No value  \n"
     ]
    }
   ],
   "source": [
    "#Replace missing values\n",
    "f = e.fillna(\"No value\")\n",
    "print(f)"
   ]
  },
  {
   "cell_type": "markdown",
   "metadata": {},
   "source": [
    "### Descriptive Statistics Functions\n",
    "\n",
    "Pandas gives access to several statistics functions such as `mean, sum, count, median, quantile, describe`, etc."
   ]
  },
  {
   "cell_type": "code",
   "execution_count": 25,
   "metadata": {},
   "outputs": [
    {
     "data": {
      "text/plain": [
       "population    2.502672e+09\n",
       "lat           4.591090e+05\n",
       "dtype: float64"
      ]
     },
     "execution_count": 25,
     "metadata": {},
     "output_type": "execute_result"
    }
   ],
   "source": [
    "#Sum by columns\n",
    "cd[[\"population\", \"lat\"]].sum()"
   ]
  },
  {
   "cell_type": "code",
   "execution_count": 26,
   "metadata": {},
   "outputs": [
    {
     "data": {
      "text/plain": [
       "0    87.7182\n",
       "1   -16.6153\n",
       "2   -39.8443\n",
       "dtype: float64"
      ]
     },
     "execution_count": 26,
     "metadata": {},
     "output_type": "execute_result"
    }
   ],
   "source": [
    "#Mean by rows\n",
    "cd[cd.population > 19000000][[\"lng\", \"lat\"]].mean(axis=1)"
   ]
  },
  {
   "cell_type": "code",
   "execution_count": 27,
   "metadata": {},
   "outputs": [
    {
     "data": {
      "text/html": [
       "<div>\n",
       "<style scoped>\n",
       "    .dataframe tbody tr th:only-of-type {\n",
       "        vertical-align: middle;\n",
       "    }\n",
       "\n",
       "    .dataframe tbody tr th {\n",
       "        vertical-align: top;\n",
       "    }\n",
       "\n",
       "    .dataframe thead th {\n",
       "        text-align: right;\n",
       "    }\n",
       "</style>\n",
       "<table border=\"1\" class=\"dataframe\">\n",
       "  <thead>\n",
       "    <tr style=\"text-align: right;\">\n",
       "      <th></th>\n",
       "      <th>lat</th>\n",
       "      <th>lng</th>\n",
       "      <th>population</th>\n",
       "    </tr>\n",
       "  </thead>\n",
       "  <tbody>\n",
       "    <tr>\n",
       "      <th>count</th>\n",
       "      <td>15493.000000</td>\n",
       "      <td>15493.000000</td>\n",
       "      <td>1.380800e+04</td>\n",
       "    </tr>\n",
       "    <tr>\n",
       "      <th>mean</th>\n",
       "      <td>29.633315</td>\n",
       "      <td>-29.834189</td>\n",
       "      <td>1.812480e+05</td>\n",
       "    </tr>\n",
       "    <tr>\n",
       "      <th>std</th>\n",
       "      <td>22.414727</td>\n",
       "      <td>76.340457</td>\n",
       "      <td>7.947989e+05</td>\n",
       "    </tr>\n",
       "    <tr>\n",
       "      <th>min</th>\n",
       "      <td>-54.933300</td>\n",
       "      <td>-179.590000</td>\n",
       "      <td>0.000000e+00</td>\n",
       "    </tr>\n",
       "    <tr>\n",
       "      <th>25%</th>\n",
       "      <td>22.305000</td>\n",
       "      <td>-86.324200</td>\n",
       "      <td>9.167500e+03</td>\n",
       "    </tr>\n",
       "    <tr>\n",
       "      <th>50%</th>\n",
       "      <td>37.756200</td>\n",
       "      <td>-71.916700</td>\n",
       "      <td>2.349650e+04</td>\n",
       "    </tr>\n",
       "    <tr>\n",
       "      <th>75%</th>\n",
       "      <td>42.444200</td>\n",
       "      <td>25.582100</td>\n",
       "      <td>9.030625e+04</td>\n",
       "    </tr>\n",
       "    <tr>\n",
       "      <th>max</th>\n",
       "      <td>82.483300</td>\n",
       "      <td>179.383300</td>\n",
       "      <td>3.567600e+07</td>\n",
       "    </tr>\n",
       "  </tbody>\n",
       "</table>\n",
       "</div>"
      ],
      "text/plain": [
       "                lat           lng    population\n",
       "count  15493.000000  15493.000000  1.380800e+04\n",
       "mean      29.633315    -29.834189  1.812480e+05\n",
       "std       22.414727     76.340457  7.947989e+05\n",
       "min      -54.933300   -179.590000  0.000000e+00\n",
       "25%       22.305000    -86.324200  9.167500e+03\n",
       "50%       37.756200    -71.916700  2.349650e+04\n",
       "75%       42.444200     25.582100  9.030625e+04\n",
       "max       82.483300    179.383300  3.567600e+07"
      ]
     },
     "execution_count": 27,
     "metadata": {},
     "output_type": "execute_result"
    }
   ],
   "source": [
    "#The describe method will provide useful statistics measures for your DataFrames\n",
    "cd[[\"lat\", \"lng\", \"population\"]].describe()"
   ]
  },
  {
   "cell_type": "markdown",
   "metadata": {},
   "source": [
    "### Concatenation"
   ]
  },
  {
   "cell_type": "code",
   "execution_count": 28,
   "metadata": {},
   "outputs": [
    {
     "data": {
      "text/html": [
       "<div>\n",
       "<style scoped>\n",
       "    .dataframe tbody tr th:only-of-type {\n",
       "        vertical-align: middle;\n",
       "    }\n",
       "\n",
       "    .dataframe tbody tr th {\n",
       "        vertical-align: top;\n",
       "    }\n",
       "\n",
       "    .dataframe thead th {\n",
       "        text-align: right;\n",
       "    }\n",
       "</style>\n",
       "<table border=\"1\" class=\"dataframe\">\n",
       "  <thead>\n",
       "    <tr style=\"text-align: right;\">\n",
       "      <th></th>\n",
       "      <th>city</th>\n",
       "      <th>city_ascii</th>\n",
       "      <th>lat</th>\n",
       "      <th>lng</th>\n",
       "      <th>country</th>\n",
       "      <th>iso2</th>\n",
       "      <th>iso3</th>\n",
       "      <th>admin_name</th>\n",
       "      <th>capital</th>\n",
       "      <th>population</th>\n",
       "      <th>id</th>\n",
       "    </tr>\n",
       "  </thead>\n",
       "  <tbody>\n",
       "    <tr>\n",
       "      <th>10202</th>\n",
       "      <td>Ocean Springs</td>\n",
       "      <td>Ocean Springs</td>\n",
       "      <td>30.4082</td>\n",
       "      <td>-88.7861</td>\n",
       "      <td>United States</td>\n",
       "      <td>US</td>\n",
       "      <td>USA</td>\n",
       "      <td>Mississippi</td>\n",
       "      <td>NaN</td>\n",
       "      <td>17682.0</td>\n",
       "      <td>1840015017</td>\n",
       "    </tr>\n",
       "    <tr>\n",
       "      <th>0</th>\n",
       "      <td>Tokyo</td>\n",
       "      <td>Tokyo</td>\n",
       "      <td>35.6850</td>\n",
       "      <td>139.7514</td>\n",
       "      <td>Japan</td>\n",
       "      <td>JP</td>\n",
       "      <td>JPN</td>\n",
       "      <td>Tōkyō</td>\n",
       "      <td>primary</td>\n",
       "      <td>35676000.0</td>\n",
       "      <td>1392685764</td>\n",
       "    </tr>\n",
       "  </tbody>\n",
       "</table>\n",
       "</div>"
      ],
      "text/plain": [
       "                city     city_ascii      lat       lng        country iso2  \\\n",
       "10202  Ocean Springs  Ocean Springs  30.4082  -88.7861  United States   US   \n",
       "0              Tokyo          Tokyo  35.6850  139.7514          Japan   JP   \n",
       "\n",
       "      iso3   admin_name  capital  population          id  \n",
       "10202  USA  Mississippi      NaN     17682.0  1840015017  \n",
       "0      JPN        Tōkyō  primary  35676000.0  1392685764  "
      ]
     },
     "execution_count": 28,
     "metadata": {},
     "output_type": "execute_result"
    }
   ],
   "source": [
    "#Adding a new row\n",
    "pd.concat([cd.sample(1),cd.head(1)])"
   ]
  },
  {
   "cell_type": "code",
   "execution_count": 29,
   "metadata": {},
   "outputs": [
    {
     "data": {
      "text/html": [
       "<div>\n",
       "<style scoped>\n",
       "    .dataframe tbody tr th:only-of-type {\n",
       "        vertical-align: middle;\n",
       "    }\n",
       "\n",
       "    .dataframe tbody tr th {\n",
       "        vertical-align: top;\n",
       "    }\n",
       "\n",
       "    .dataframe thead th {\n",
       "        text-align: right;\n",
       "    }\n",
       "</style>\n",
       "<table border=\"1\" class=\"dataframe\">\n",
       "  <thead>\n",
       "    <tr style=\"text-align: right;\">\n",
       "      <th></th>\n",
       "      <th>city</th>\n",
       "      <th>lat</th>\n",
       "      <th>NC</th>\n",
       "    </tr>\n",
       "  </thead>\n",
       "  <tbody>\n",
       "    <tr>\n",
       "      <th>0</th>\n",
       "      <td>Tokyo</td>\n",
       "      <td>35.685</td>\n",
       "      <td>NaN</td>\n",
       "    </tr>\n",
       "    <tr>\n",
       "      <th>1</th>\n",
       "      <td>No value</td>\n",
       "      <td>No value</td>\n",
       "      <td>NaN</td>\n",
       "    </tr>\n",
       "    <tr>\n",
       "      <th>999999</th>\n",
       "      <td>NaN</td>\n",
       "      <td>NaN</td>\n",
       "      <td>99.0</td>\n",
       "    </tr>\n",
       "  </tbody>\n",
       "</table>\n",
       "</div>"
      ],
      "text/plain": [
       "            city       lat    NC\n",
       "0          Tokyo    35.685   NaN\n",
       "1       No value  No value   NaN\n",
       "999999       NaN       NaN  99.0"
      ]
     },
     "execution_count": 29,
     "metadata": {},
     "output_type": "execute_result"
    }
   ],
   "source": [
    "#Adding a new column\n",
    "pd.concat([f[[\"city\",\"lat\"]],pd.DataFrame({'NC' : [99]}, index = [999999])], axis = 1)"
   ]
  },
  {
   "cell_type": "markdown",
   "metadata": {},
   "source": [
    "## Scikit-learn\n",
    "\n",
    "Scikit-learn is a Python machine learning library that features classification, regression and clustering algorithms.\n",
    "\n",
    "### A simple example"
   ]
  },
  {
   "cell_type": "code",
   "execution_count": 30,
   "metadata": {},
   "outputs": [
    {
     "data": {
      "text/plain": [
       "GridSearchCV(estimator=Lasso(random_state=0),\n",
       "             param_grid={'alpha': array([1.00000000e-04, 1.32035178e-04, 1.74332882e-04, 2.30180731e-04,\n",
       "       3.03919538e-04, 4.01280703e-04, 5.29831691e-04, 6.99564216e-04,\n",
       "       9.23670857e-04, 1.21957046e-03, 1.61026203e-03, 2.12611233e-03,\n",
       "       2.80721620e-03, 3.70651291e-03, 4.89390092e-03, 6.46167079e-03,\n",
       "       8.53167852e-03, 1.12648169e-02, 1.48735211e-02, 1.96382800e-02,\n",
       "       2.59294380e-02, 3.42359796e-02, 4.52035366e-02, 5.96845700e-02,\n",
       "       7.88046282e-02, 1.04049831e-01, 1.37382380e-01, 1.81393069e-01,\n",
       "       2.39502662e-01, 3.16227766e-01])})"
      ]
     },
     "execution_count": 30,
     "metadata": {},
     "output_type": "execute_result"
    }
   ],
   "source": [
    "# Scikit-learn provides toy datasets, models and techniques for model selection\n",
    "from sklearn import datasets\n",
    "from sklearn.linear_model import Lasso\n",
    "from sklearn.model_selection import GridSearchCV\n",
    "\n",
    "#This dataset is already standardized (442 entries)\n",
    "diabetes = datasets.load_diabetes()\n",
    "feature_names=['age', 'sex', 'bmi', 'bp', 's1', 's2', 's3','s4', 's5', 's6']\n",
    "\n",
    "#The target attribute is the disease progression one year after baseline\n",
    "y = diabetes.target\n",
    "#10 numeric baseline variables \n",
    "X = diabetes.data\n",
    "\n",
    "#We split the dataset into training and test datasets.\n",
    "X_train = X[:300]\n",
    "y_train = y[:300]\n",
    "X_test = X[300:]\n",
    "y_test = y[300:]\n",
    "\n",
    "#Here we use the Lasso model and try different values for alpha\n",
    "lasso = Lasso(random_state=0)\n",
    "alphas = np.logspace(-4, -0.5, 30)\n",
    "\n",
    "#We initialise the cross validation grid search and fit the training data\n",
    "estimator = GridSearchCV(lasso, dict(alpha=alphas))\n",
    "estimator.fit(X_train,y_train)"
   ]
  },
  {
   "cell_type": "code",
   "execution_count": 31,
   "metadata": {},
   "outputs": [
    {
     "data": {
      "text/plain": [
       "0.46809897288058816"
      ]
     },
     "execution_count": 31,
     "metadata": {},
     "output_type": "execute_result"
    }
   ],
   "source": [
    "#We can obtain the best score\n",
    "estimator.best_score_"
   ]
  },
  {
   "cell_type": "code",
   "execution_count": 32,
   "metadata": {},
   "outputs": [
    {
     "data": {
      "text/plain": [
       "Lasso(alpha=0.05968456995122311, random_state=0)"
      ]
     },
     "execution_count": 32,
     "metadata": {},
     "output_type": "execute_result"
    }
   ],
   "source": [
    "#We can get also get the best estimator directly\n",
    "estimator.best_estimator_"
   ]
  },
  {
   "cell_type": "code",
   "execution_count": 33,
   "metadata": {},
   "outputs": [
    {
     "data": {
      "text/plain": [
       "array([223.08988292, 123.41342452, 204.53641304, 232.05395609,\n",
       "       116.23429477, 126.22454464, 128.72347463, 148.15215352,\n",
       "        88.09425404, 147.96569816, 201.0957727 , 176.29547129,\n",
       "       122.64404762, 212.55070667, 171.7115962 , 116.61146604,\n",
       "       202.17824782, 168.34580243, 164.10850349, 187.87535435,\n",
       "       187.71610711, 278.61918586, 290.9539084 , 233.46552614,\n",
       "       204.07225409, 226.28950633, 156.22670401, 223.76124122,\n",
       "       189.85606422, 105.10776928, 168.84703905, 111.39786661,\n",
       "       285.29363378, 177.03775515,  80.71930061,  86.19992756,\n",
       "       249.73947158, 163.33405043, 120.89636522, 154.99248179,\n",
       "       160.89653403, 181.22700837, 162.93296937, 155.06630485,\n",
       "       141.99377691, 127.54907378, 183.25474062, 106.98288797,\n",
       "       129.16590876,  88.58871585, 253.14504794,  86.9761671 ,\n",
       "        61.36172839, 187.69368844, 205.8046072 , 129.92058339,\n",
       "        92.75697308, 201.60402698,  55.72905539, 169.99251632,\n",
       "       192.04308437, 123.01671763, 231.31260277, 157.53955532,\n",
       "       159.10992409, 163.45905992, 260.85110216, 261.02040953,\n",
       "       205.22459012, 182.91925524,  61.49323124, 213.18133872,\n",
       "       110.09875725, 139.42593066, 124.82406616, 174.45486514,\n",
       "       212.08794703, 159.78562351, 160.33520718, 131.71156721,\n",
       "       169.36176535,  73.15893678, 264.06948026, 116.70718941,\n",
       "       117.88711717, 134.85637669, 109.84190256,  98.80607619,\n",
       "       157.86220414,  83.47637283, 267.56921663,  57.74482456,\n",
       "       102.79570803, 102.05421816, 273.94076181, 166.25421699,\n",
       "        67.79824681, 182.54636917, 175.87741708, 190.72260595,\n",
       "       178.17789337,  93.93244458, 141.97720636, 256.886267  ,\n",
       "       194.96955296, 273.69903359,  51.06836629, 178.55365169,\n",
       "       195.46995131, 165.20677957, 160.84854876, 158.10836755,\n",
       "       230.33085565, 126.19136415, 167.27366866, 166.50447371,\n",
       "       219.70448247, 157.86564546, 104.45406045,  83.16984301,\n",
       "       135.73820146, 188.09340021, 204.56361889, 138.83634163,\n",
       "       169.09887599, 111.95151667, 159.47556552, 131.86604881,\n",
       "       261.51954746, 103.28570676, 112.4081502 , 120.23621665,\n",
       "       224.78123358,  63.77660136, 135.62033806, 118.77172404,\n",
       "        56.79326364, 190.98701061, 108.87011905, 121.76770026,\n",
       "       208.67536872,  57.29821734])"
      ]
     },
     "execution_count": 33,
     "metadata": {},
     "output_type": "execute_result"
    }
   ],
   "source": [
    "#Finally, we use the best model to predict on the test dataset\n",
    "estimator.predict(X_test)"
   ]
  },
  {
   "cell_type": "markdown",
   "metadata": {},
   "source": [
    "## Keras & TensorFlow\n",
    "\n",
    "Keras is an Python library that provides an easy interface for artificial neural networks. \n",
    "The default backend for Keras is the TensorFlow library although it supported multiple backends (Microsoft Cognitive Toolkit, R, Theano, and PlaidML) in the past (before version 2.3)"
   ]
  },
  {
   "cell_type": "markdown",
   "metadata": {},
   "source": [
    "### A simple example"
   ]
  },
  {
   "cell_type": "code",
   "execution_count": 34,
   "metadata": {},
   "outputs": [
    {
     "name": "stdout",
     "output_type": "stream",
     "text": [
      "Epoch 1/20\n",
      "7/7 [==============================] - 0s 1ms/step - loss: 6.0443 - accuracy: 0.5735\n",
      "Epoch 2/20\n",
      "7/7 [==============================] - 0s 907us/step - loss: 0.6715 - accuracy: 0.7706\n",
      "Epoch 3/20\n",
      "7/7 [==============================] - 0s 934us/step - loss: 0.4774 - accuracy: 0.8294\n",
      "Epoch 4/20\n",
      "7/7 [==============================] - 0s 1ms/step - loss: 0.5440 - accuracy: 0.8118\n",
      "Epoch 5/20\n",
      "7/7 [==============================] - 0s 906us/step - loss: 0.4821 - accuracy: 0.8147\n",
      "Epoch 6/20\n",
      "7/7 [==============================] - 0s 856us/step - loss: 0.6882 - accuracy: 0.7500\n",
      "Epoch 7/20\n",
      "7/7 [==============================] - 0s 952us/step - loss: 0.5358 - accuracy: 0.7971\n",
      "Epoch 8/20\n",
      "7/7 [==============================] - 0s 939us/step - loss: 0.4676 - accuracy: 0.8176\n",
      "Epoch 9/20\n",
      "7/7 [==============================] - 0s 1ms/step - loss: 0.5797 - accuracy: 0.7882\n",
      "Epoch 10/20\n",
      "7/7 [==============================] - 0s 857us/step - loss: 0.4030 - accuracy: 0.8441\n",
      "Epoch 11/20\n",
      "7/7 [==============================] - 0s 922us/step - loss: 0.4740 - accuracy: 0.8353\n",
      "Epoch 12/20\n",
      "7/7 [==============================] - 0s 923us/step - loss: 0.4626 - accuracy: 0.8235\n",
      "Epoch 13/20\n",
      "7/7 [==============================] - 0s 990us/step - loss: 0.4766 - accuracy: 0.8176\n",
      "Epoch 14/20\n",
      "7/7 [==============================] - 0s 870us/step - loss: 0.3422 - accuracy: 0.8735\n",
      "Epoch 15/20\n",
      "7/7 [==============================] - 0s 881us/step - loss: 0.3616 - accuracy: 0.8324\n",
      "Epoch 16/20\n",
      "7/7 [==============================] - 0s 867us/step - loss: 0.3535 - accuracy: 0.8647\n",
      "Epoch 17/20\n",
      "7/7 [==============================] - 0s 902us/step - loss: 0.4096 - accuracy: 0.8294\n",
      "Epoch 18/20\n",
      "7/7 [==============================] - 0s 921us/step - loss: 0.3899 - accuracy: 0.8324\n",
      "Epoch 19/20\n",
      "7/7 [==============================] - 0s 863us/step - loss: 0.3004 - accuracy: 0.8824\n",
      "Epoch 20/20\n",
      "7/7 [==============================] - 0s 977us/step - loss: 0.2881 - accuracy: 0.9000\n"
     ]
    },
    {
     "data": {
      "text/plain": [
       "<tensorflow.python.keras.callbacks.History at 0x7fefa81735c0>"
      ]
     },
     "execution_count": 34,
     "metadata": {},
     "output_type": "execute_result"
    }
   ],
   "source": [
    "#We introduce the model and the layer types from Keras\n",
    "from tensorflow.keras.models import Sequential \n",
    "from tensorflow.keras.layers import Dense, Dropout\n",
    "\n",
    "#We introduce the example's dataset from Scikit-learn's dataset module\n",
    "from sklearn.datasets import load_breast_cancer \n",
    "cancer = load_breast_cancer()\n",
    "\n",
    "#We split the dataset into a training and test dataset\n",
    "X_train = cancer.data[:340]\n",
    "y_train = cancer.target[:340]\n",
    "X_test = cancer.data[340:] \n",
    "y_test = cancer.target[340:]\n",
    "\n",
    "#We create the model and add several layers\n",
    "model = Sequential()\n",
    "model.add(Dense(15, input_dim=30, activation='relu'))\n",
    "model.add(Dense(15, activation='relu'))\n",
    "model.add(Dense(15, activation='relu'))\n",
    "model.add(Dense(1, activation='sigmoid'))\n",
    "\n",
    "#We compile the model by specifying the loss function and the optimizer\n",
    "model.compile(loss='binary_crossentropy', optimizer='rmsprop',metrics=['accuracy'])\n",
    "\n",
    "#We fit the model on the training dataset\n",
    "model.fit(X_train, y_train, epochs=20, batch_size=50)"
   ]
  },
  {
   "cell_type": "code",
   "execution_count": 37,
   "metadata": {},
   "outputs": [
    {
     "name": "stdout",
     "output_type": "stream",
     "text": [
      "              precision    recall  f1-score   support\n",
      "\n",
      "           0       0.91      0.55      0.68        55\n",
      "           1       0.87      0.98      0.92       174\n",
      "\n",
      "    accuracy                           0.88       229\n",
      "   macro avg       0.89      0.76      0.80       229\n",
      "weighted avg       0.88      0.88      0.87       229\n",
      "\n"
     ]
    }
   ],
   "source": [
    "#We use classification_report to evaluate the model\n",
    "from sklearn.metrics import classification_report\n",
    "\n",
    "print(classification_report(y_true=y_test,y_pred=model.predict_classes(X_test)))\n"
   ]
  },
  {
   "cell_type": "code",
   "execution_count": null,
   "metadata": {},
   "outputs": [],
   "source": []
  }
 ],
 "metadata": {
  "kernelspec": {
   "display_name": "Python 3",
   "language": "python",
   "name": "python3"
  },
  "language_info": {
   "codemirror_mode": {
    "name": "ipython",
    "version": 3
   },
   "file_extension": ".py",
   "mimetype": "text/x-python",
   "name": "python",
   "nbconvert_exporter": "python",
   "pygments_lexer": "ipython3",
   "version": "3.6.9"
  }
 },
 "nbformat": 4,
 "nbformat_minor": 2
}
